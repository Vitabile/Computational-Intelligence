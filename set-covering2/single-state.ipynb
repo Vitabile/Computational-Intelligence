{
 "cells": [
  {
   "cell_type": "markdown",
   "metadata": {},
   "source": [
    "### Local Search - Set Covering\n",
    "- Random-Mutation Hill Climbing"
   ]
  },
  {
   "cell_type": "code",
   "execution_count": 231,
   "metadata": {},
   "outputs": [],
   "source": [
    "from random import random, choice, randint\n",
    "from functools import reduce\n",
    "from pprint import pprint\n",
    "import numpy as np\n",
    "from copy import copy"
   ]
  },
  {
   "cell_type": "code",
   "execution_count": 232,
   "metadata": {},
   "outputs": [],
   "source": [
    "PROBLEM_SIZE = 5\n",
    "NUM_SETS = 10"
   ]
  },
  {
   "cell_type": "code",
   "execution_count": 233,
   "metadata": {},
   "outputs": [],
   "source": [
    "SETS = tuple(\n",
    "    np.array([random() < 0.3 for _ in range(PROBLEM_SIZE)])\n",
    "    for _ in range(NUM_SETS)\n",
    ")"
   ]
  },
  {
   "cell_type": "markdown",
   "metadata": {},
   "source": [
    "In this case I want to implement **Random-Mutation Hill climbing**.<br>\n",
    "I have the state rappresented from a single list of True and False, for each set in sets that are considered taken (True taken, False not taken) "
   ]
  },
  {
   "cell_type": "code",
   "execution_count": 234,
   "metadata": {},
   "outputs": [
    {
     "data": {
      "text/plain": [
       "[True, False, False, False, True, True, False, True, True, True]"
      ]
     },
     "execution_count": 234,
     "metadata": {},
     "output_type": "execute_result"
    }
   ],
   "source": [
    "current_state = [choice([True, False]) for _ in range(NUM_SETS)]\n",
    "current_state"
   ]
  },
  {
   "cell_type": "markdown",
   "metadata": {},
   "source": [
    "I define a evaluate function, that gives me a tupla with Boolean value for the goal and the cost to maximize with **Hill Climbing**. <br>\n",
    "If we are in a **goal state**, we want to **minimize the number of tiles** so I used **-number of True**, but if we are **not in a goal state**, we want to **maximize** the number of tiles overall to achieve the goal, so **number of True**."
   ]
  },
  {
   "cell_type": "code",
   "execution_count": 235,
   "metadata": {},
   "outputs": [],
   "source": [
    "def evaluate(state):\n",
    "    goal = np.all(\n",
    "        reduce(\n",
    "            np.logical_or,\n",
    "            [SETS[i] for i, t in enumerate(state) if t],\n",
    "            False,\n",
    "        )\n",
    "    )\n",
    "    return goal, -sum(state) if goal else sum(state)"
   ]
  },
  {
   "cell_type": "code",
   "execution_count": 236,
   "metadata": {},
   "outputs": [],
   "source": [
    "assert evaluate([True for _ in range(NUM_SETS)])[0], \"Problem not solvable\""
   ]
  },
  {
   "cell_type": "markdown",
   "metadata": {},
   "source": [
    "I define a **tweak function** that get a state and change randomly a single value from True to False and in reverse."
   ]
  },
  {
   "cell_type": "code",
   "execution_count": 237,
   "metadata": {},
   "outputs": [],
   "source": [
    "def tweak(state):\n",
    "    new_state = copy(state)\n",
    "    index = randint(0, NUM_SETS - 1)\n",
    "    new_state[index] = not state[index]\n",
    "    return new_state"
   ]
  },
  {
   "cell_type": "markdown",
   "metadata": {},
   "source": [
    "For each step, I update the state just if the result of tweak give me an improvement "
   ]
  },
  {
   "cell_type": "code",
   "execution_count": 238,
   "metadata": {},
   "outputs": [],
   "source": [
    "def random_mutation(initial_state, max_iteration):\n",
    "    for _ in range(max_iteration):\n",
    "        new_state = tweak(initial_state)\n",
    "        if evaluate(new_state) > evaluate(initial_state):\n",
    "            initial_state = new_state\n",
    "            print(initial_state, evaluate(initial_state))\n",
    "    return initial_state"
   ]
  },
  {
   "cell_type": "code",
   "execution_count": 239,
   "metadata": {},
   "outputs": [
    {
     "name": "stdout",
     "output_type": "stream",
     "text": [
      "[True, False, False, True, True, True, False, True, True, True] (False, 7)\n",
      "[True, False, True, True, True, True, False, True, True, True] (True, -8)\n",
      "[True, False, True, True, True, True, False, True, True, False] (True, -7)\n",
      "[False, False, True, True, True, True, False, True, True, False] (True, -6)\n",
      "[False, False, True, True, True, True, False, False, True, False] (True, -5)\n",
      "[False, False, True, True, True, False, False, False, True, False] (True, -4)\n",
      "[False, False, True, True, True, False, False, False, False, False] (True, -3)\n"
     ]
    }
   ],
   "source": [
    "solution_state = random_mutation(current_state, 100)"
   ]
  },
  {
   "cell_type": "code",
   "execution_count": 243,
   "metadata": {},
   "outputs": [
    {
     "name": "stdout",
     "output_type": "stream",
     "text": [
      "[array([False,  True, False,  True,  True]),\n",
      " array([False, False,  True, False, False]),\n",
      " array([ True, False, False,  True, False])]\n"
     ]
    }
   ],
   "source": [
    "pprint([SETS[i] for i, t in enumerate(solution_state) if t])"
   ]
  }
 ],
 "metadata": {
  "kernelspec": {
   "display_name": ".venv",
   "language": "python",
   "name": "python3"
  },
  "language_info": {
   "codemirror_mode": {
    "name": "ipython",
    "version": 3
   },
   "file_extension": ".py",
   "mimetype": "text/x-python",
   "name": "python",
   "nbconvert_exporter": "python",
   "pygments_lexer": "ipython3",
   "version": "3.10.12"
  }
 },
 "nbformat": 4,
 "nbformat_minor": 2
}
