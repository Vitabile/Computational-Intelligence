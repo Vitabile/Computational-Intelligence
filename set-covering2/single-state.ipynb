{
 "cells": [
  {
   "cell_type": "markdown",
   "metadata": {},
   "source": [
    "## Halloween Challenge\n",
    "Find the best solution with the fewest calls to the fitness functions for:\n",
    "* num_points = [100, 1_000, 5_000]\n",
    "* num_sets = num_points\n",
    "* density = [.3, .7]"
   ]
  },
  {
   "cell_type": "markdown",
   "metadata": {},
   "source": [
    "### Local Search - Set Covering\n",
    "To resolve this challenge I implemented these different **Single-State Methods**:\n",
    "* Random-Mutation Hill Climbing\n",
    "* Steepest Ascent Hill Climbing\n",
    "* Steepest Ascent with Replacement Hill Climbing\n",
    "* K population Random-Mutation Hill Climbing\n",
    "* K population Steepest Ascent Hill Climbing\n",
    "* Simulated Annealing"
   ]
  },
  {
   "cell_type": "code",
   "execution_count": 1,
   "metadata": {},
   "outputs": [],
   "source": [
    "from random import random, randint, seed\n",
    "from functools import reduce\n",
    "import numpy as np\n",
    "from copy import copy\n",
    "from itertools import product\n",
    "from scipy import sparse"
   ]
  },
  {
   "cell_type": "code",
   "execution_count": 2,
   "metadata": {},
   "outputs": [],
   "source": [
    "def make_set_covering_problem(num_points, num_sets, density):\n",
    "    \"\"\"Returns a sparse array where rows are sets and columns are the covered items\"\"\"\n",
    "    seed(num_points * 2654435761 + num_sets + density)\n",
    "    sets = sparse.lil_array((num_sets, num_points), dtype=bool)\n",
    "    for s, p in product(range(num_sets), range(num_points)):\n",
    "        if random() < density:\n",
    "            sets[s, p] = True\n",
    "    for p in range(num_points):\n",
    "        sets[randint(0, num_sets - 1), p] = True\n",
    "    return sets.toarray()"
   ]
  },
  {
   "cell_type": "code",
   "execution_count": 3,
   "metadata": {},
   "outputs": [],
   "source": [
    "PROBLEM_SIZE = [100, 1_000, 5_000]\n",
    "DENSITY = [0.3, 0.7]"
   ]
  },
  {
   "cell_type": "markdown",
   "metadata": {},
   "source": [
    "I defined how fitness function a function that return the number of covered cells, and the negative number of sets used"
   ]
  },
  {
   "cell_type": "code",
   "execution_count": 4,
   "metadata": {},
   "outputs": [],
   "source": [
    "def fitness(state, sets):\n",
    "    num_true = np.sum(\n",
    "        reduce(\n",
    "            np.logical_or,\n",
    "            [sets[i] for i, t in enumerate(state) if t],\n",
    "            False,\n",
    "        )\n",
    "    )\n",
    "    return num_true, -sum(state)"
   ]
  },
  {
   "cell_type": "code",
   "execution_count": 5,
   "metadata": {},
   "outputs": [],
   "source": [
    "def generate_initial_state(prob, problem_size):\n",
    "    return [True if random() < prob else False for _ in range(problem_size)]"
   ]
  },
  {
   "cell_type": "markdown",
   "metadata": {},
   "source": [
    "With the following cell I checked if all the configuration of the problem are solvable and saved the sets, initial state and conf in an array problems"
   ]
  },
  {
   "cell_type": "code",
   "execution_count": 6,
   "metadata": {},
   "outputs": [],
   "source": [
    "problems = []\n",
    "for p in PROBLEM_SIZE:\n",
    "    for d in DENSITY:\n",
    "        initial_state = generate_initial_state(0.3, p)\n",
    "        sets = make_set_covering_problem(p, p, d)\n",
    "        assert fitness([True for _ in range(p)], sets)[0] == p, \"Problem not solvable\"\n",
    "        problems.append((sets, initial_state, (p, d)))"
   ]
  },
  {
   "cell_type": "markdown",
   "metadata": {},
   "source": [
    "I defined a tweak function that random modify one set from taken to untaken or from untaken to taken "
   ]
  },
  {
   "cell_type": "code",
   "execution_count": 8,
   "metadata": {},
   "outputs": [],
   "source": [
    "def tweak(state, problem_size):\n",
    "    new_state = copy(state)\n",
    "    index = randint(0, problem_size - 1)\n",
    "    new_state[index] = not state[index]\n",
    "    return new_state"
   ]
  },
  {
   "cell_type": "markdown",
   "metadata": {},
   "source": [
    "### Random Mutation Hill Climbing"
   ]
  },
  {
   "cell_type": "code",
   "execution_count": 18,
   "metadata": {},
   "outputs": [],
   "source": [
    "def RMHC(sets, problem_size, state, max_iteration):\n",
    "    \"\"\"\n",
    "    Random Mutation Hill Climbing implementation.\n",
    "\n",
    "    Args:\n",
    "        sets: 2D boolean array;\n",
    "        problem_size: the number of sets and points;\n",
    "        state: initial state;\n",
    "        max_iteration: the maximum number of iteration;\n",
    "\n",
    "    Returns:\n",
    "        state: solution state;\n",
    "        goodness: the result of the fitness function on the solution state;\n",
    "        evaluations: number of evaluations;\n",
    "\n",
    "    \"\"\"\n",
    "    count = 0\n",
    "    limit = problem_size // 2\n",
    "    goodness = fitness(state, sets)\n",
    "    evaluations = max_iteration + 1\n",
    "    for i in range(max_iteration):\n",
    "        if count == limit:\n",
    "            evaluations = i + 1\n",
    "            break\n",
    "        new_state = tweak(state, problem_size)\n",
    "        goodness_new_state = fitness(new_state, sets)\n",
    "        if goodness_new_state > goodness:\n",
    "            state = new_state\n",
    "            goodness = goodness_new_state\n",
    "            count = 0\n",
    "        count += 1\n",
    "    return state, goodness, evaluations"
   ]
  },
  {
   "cell_type": "code",
   "execution_count": 17,
   "metadata": {},
   "outputs": [
    {
     "name": "stdout",
     "output_type": "stream",
     "text": [
      "Random Mutation Hill Climbing:\n",
      "Density: 0.3\n",
      "Problem size: 100\n",
      "Number of calls to fitness function: 140\n",
      "Goodness: (100, -10)\n",
      "\n",
      "Random Mutation Hill Climbing:\n",
      "Density: 0.7\n",
      "Problem size: 100\n",
      "Number of calls to fitness function: 213\n",
      "Goodness: (100, -4)\n",
      "\n",
      "Random Mutation Hill Climbing:\n",
      "Density: 0.3\n",
      "Problem size: 1000\n",
      "Number of calls to fitness function: 3721\n",
      "Goodness: (1000, -16)\n",
      "\n",
      "Random Mutation Hill Climbing:\n",
      "Density: 0.7\n",
      "Problem size: 1000\n",
      "Number of calls to fitness function: 5299\n",
      "Goodness: (1000, -6)\n",
      "\n",
      "Random Mutation Hill Climbing:\n",
      "Density: 0.3\n",
      "Problem size: 5000\n",
      "Number of calls to fitness function: 28354\n",
      "Goodness: (5000, -18)\n",
      "\n",
      "Random Mutation Hill Climbing:\n",
      "Density: 0.7\n",
      "Problem size: 5000\n",
      "Number of calls to fitness function: 30497\n",
      "Goodness: (5000, -7)\n",
      "\n"
     ]
    }
   ],
   "source": [
    "max_iteration = 100_000\n",
    "for sets, initial_state, (p, d) in problems:\n",
    "    solution_state, goodness, evaluations = RMHC(sets, p, initial_state, max_iteration)\n",
    "    print(\n",
    "        f\"Random Mutation Hill Climbing:\\nDensity: {d}\\nProblem size: {p}\\nNumber of calls to fitness function: {evaluations:,}\\nGoodness: {goodness}\\n\"\n",
    "    )"
   ]
  },
  {
   "cell_type": "markdown",
   "metadata": {},
   "source": [
    "### Steepest-step Hill Climbing"
   ]
  },
  {
   "cell_type": "markdown",
   "metadata": {},
   "source": [
    "I defined a new tweak function that change a specif value from the index"
   ]
  },
  {
   "cell_type": "code",
   "execution_count": 42,
   "metadata": {},
   "outputs": [],
   "source": [
    "def tweak_index(state, index):\n",
    "    new_state = copy(state)\n",
    "    new_state[index] = not state[index]\n",
    "    return new_state"
   ]
  },
  {
   "cell_type": "code",
   "execution_count": 41,
   "metadata": {},
   "outputs": [],
   "source": [
    "def SAHC(sets, problem_size, state, max_iteration):\n",
    "    \"\"\"\n",
    "    Steepest-step Hill Climbing implementation.\n",
    "\n",
    "    Args:\n",
    "        sets: 2D boolean array;\n",
    "        problem_size: the number of sets and points;\n",
    "        state: initial state;\n",
    "        max_iteration: the maximum number of iteration;\n",
    "\n",
    "    Returns:\n",
    "        state: solution state;\n",
    "        goodness: the result of the fitness function on the solution state;\n",
    "        evaluations: number of evaluations;\n",
    "\n",
    "    \"\"\"\n",
    "    goodness = fitness(state, sets)\n",
    "    evaluations = max_iteration * problem_size\n",
    "    for i in range(max_iteration):\n",
    "        new_state = tweak_index(state, 0)\n",
    "        new_state_goodness = fitness(new_state, sets)\n",
    "        for idx in range(1, problem_size):\n",
    "            tmp = tweak_index(state, idx)\n",
    "            tmp_goodness = fitness(tmp, sets)\n",
    "            if tmp_goodness > new_state_goodness:\n",
    "                new_state = tmp\n",
    "                new_state_goodness = tmp_goodness\n",
    "        if new_state_goodness > goodness:\n",
    "            state = new_state\n",
    "            goodness = new_state_goodness\n",
    "        else:\n",
    "            evaluations = i * problem_size\n",
    "            break\n",
    "    return state, goodness, evaluations"
   ]
  },
  {
   "cell_type": "code",
   "execution_count": 43,
   "metadata": {},
   "outputs": [
    {
     "name": "stdout",
     "output_type": "stream",
     "text": [
      "Stepest-step Hill Climbing:\n",
      "Density: 0.3\n",
      "Problem size: 100\n",
      "Number of calls to fitness function: 2,100\n",
      "Goodness: (100, -10)\n",
      "\n",
      "Stepest-step Hill Climbing:\n",
      "Density: 0.7\n",
      "Problem size: 100\n",
      "Number of calls to fitness function: 1,800\n",
      "Goodness: (100, -4)\n",
      "\n",
      "Stepest-step Hill Climbing:\n",
      "Density: 0.3\n",
      "Problem size: 1000\n",
      "Number of calls to fitness function: 312,000\n",
      "Goodness: (1000, -15)\n",
      "\n",
      "Stepest-step Hill Climbing:\n",
      "Density: 0.7\n",
      "Problem size: 1000\n",
      "Number of calls to fitness function: 296,000\n",
      "Goodness: (1000, -5)\n",
      "\n"
     ]
    },
    {
     "ename": "KeyboardInterrupt",
     "evalue": "",
     "output_type": "error",
     "traceback": [
      "\u001b[0;31m---------------------------------------------------------------------------\u001b[0m",
      "\u001b[0;31mKeyboardInterrupt\u001b[0m                         Traceback (most recent call last)",
      "\u001b[1;32m/home/vitabile/Documents/Polito/Computational Intelligence/GitHub-CI/set-covering2/single-state.ipynb Cell 20\u001b[0m line \u001b[0;36m3\n\u001b[1;32m      <a href='vscode-notebook-cell:/home/vitabile/Documents/Polito/Computational%20Intelligence/GitHub-CI/set-covering2/single-state.ipynb#X44sZmlsZQ%3D%3D?line=0'>1</a>\u001b[0m max_iteration \u001b[39m=\u001b[39m \u001b[39m100_000\u001b[39m\n\u001b[1;32m      <a href='vscode-notebook-cell:/home/vitabile/Documents/Polito/Computational%20Intelligence/GitHub-CI/set-covering2/single-state.ipynb#X44sZmlsZQ%3D%3D?line=1'>2</a>\u001b[0m \u001b[39mfor\u001b[39;00m sets, initial_state, (p, d) \u001b[39min\u001b[39;00m problems:\n\u001b[0;32m----> <a href='vscode-notebook-cell:/home/vitabile/Documents/Polito/Computational%20Intelligence/GitHub-CI/set-covering2/single-state.ipynb#X44sZmlsZQ%3D%3D?line=2'>3</a>\u001b[0m     solution_state, goodness, evaluations \u001b[39m=\u001b[39m SAHC(sets, p, initial_state, max_iteration)\n\u001b[1;32m      <a href='vscode-notebook-cell:/home/vitabile/Documents/Polito/Computational%20Intelligence/GitHub-CI/set-covering2/single-state.ipynb#X44sZmlsZQ%3D%3D?line=3'>4</a>\u001b[0m     \u001b[39mprint\u001b[39m(\n\u001b[1;32m      <a href='vscode-notebook-cell:/home/vitabile/Documents/Polito/Computational%20Intelligence/GitHub-CI/set-covering2/single-state.ipynb#X44sZmlsZQ%3D%3D?line=4'>5</a>\u001b[0m         \u001b[39mf\u001b[39m\u001b[39m\"\u001b[39m\u001b[39mStepest-step Hill Climbing:\u001b[39m\u001b[39m\\n\u001b[39;00m\u001b[39mDensity: \u001b[39m\u001b[39m{\u001b[39;00md\u001b[39m}\u001b[39;00m\u001b[39m\\n\u001b[39;00m\u001b[39mProblem size: \u001b[39m\u001b[39m{\u001b[39;00mp\u001b[39m}\u001b[39;00m\u001b[39m\\n\u001b[39;00m\u001b[39mNumber of calls to fitness function: \u001b[39m\u001b[39m{\u001b[39;00mevaluations\u001b[39m:\u001b[39;00m\u001b[39m,\u001b[39m\u001b[39m}\u001b[39;00m\u001b[39m\\n\u001b[39;00m\u001b[39mGoodness: \u001b[39m\u001b[39m{\u001b[39;00mgoodness\u001b[39m}\u001b[39;00m\u001b[39m\\n\u001b[39;00m\u001b[39m\"\u001b[39m\n\u001b[1;32m      <a href='vscode-notebook-cell:/home/vitabile/Documents/Polito/Computational%20Intelligence/GitHub-CI/set-covering2/single-state.ipynb#X44sZmlsZQ%3D%3D?line=5'>6</a>\u001b[0m     )\n",
      "\u001b[1;32m/home/vitabile/Documents/Polito/Computational Intelligence/GitHub-CI/set-covering2/single-state.ipynb Cell 20\u001b[0m line \u001b[0;36m2\n\u001b[1;32m     <a href='vscode-notebook-cell:/home/vitabile/Documents/Polito/Computational%20Intelligence/GitHub-CI/set-covering2/single-state.ipynb#X44sZmlsZQ%3D%3D?line=21'>22</a>\u001b[0m \u001b[39mfor\u001b[39;00m idx \u001b[39min\u001b[39;00m \u001b[39mrange\u001b[39m(\u001b[39m1\u001b[39m,problem_size):\n\u001b[1;32m     <a href='vscode-notebook-cell:/home/vitabile/Documents/Polito/Computational%20Intelligence/GitHub-CI/set-covering2/single-state.ipynb#X44sZmlsZQ%3D%3D?line=22'>23</a>\u001b[0m     tmp \u001b[39m=\u001b[39m tweak_index(state, idx)\n\u001b[0;32m---> <a href='vscode-notebook-cell:/home/vitabile/Documents/Polito/Computational%20Intelligence/GitHub-CI/set-covering2/single-state.ipynb#X44sZmlsZQ%3D%3D?line=23'>24</a>\u001b[0m     tmp_goodness \u001b[39m=\u001b[39m fitness(tmp, sets)\n\u001b[1;32m     <a href='vscode-notebook-cell:/home/vitabile/Documents/Polito/Computational%20Intelligence/GitHub-CI/set-covering2/single-state.ipynb#X44sZmlsZQ%3D%3D?line=24'>25</a>\u001b[0m     \u001b[39mif\u001b[39;00m tmp_goodness \u001b[39m>\u001b[39m new_state_goodness:\n\u001b[1;32m     <a href='vscode-notebook-cell:/home/vitabile/Documents/Polito/Computational%20Intelligence/GitHub-CI/set-covering2/single-state.ipynb#X44sZmlsZQ%3D%3D?line=25'>26</a>\u001b[0m         new_state \u001b[39m=\u001b[39m tmp\n",
      "\u001b[1;32m/home/vitabile/Documents/Polito/Computational Intelligence/GitHub-CI/set-covering2/single-state.ipynb Cell 20\u001b[0m line \u001b[0;36m5\n\u001b[1;32m      <a href='vscode-notebook-cell:/home/vitabile/Documents/Polito/Computational%20Intelligence/GitHub-CI/set-covering2/single-state.ipynb#X44sZmlsZQ%3D%3D?line=0'>1</a>\u001b[0m \u001b[39mdef\u001b[39;00m \u001b[39mfitness\u001b[39m(state, sets):\n\u001b[1;32m      <a href='vscode-notebook-cell:/home/vitabile/Documents/Polito/Computational%20Intelligence/GitHub-CI/set-covering2/single-state.ipynb#X44sZmlsZQ%3D%3D?line=1'>2</a>\u001b[0m     num_true \u001b[39m=\u001b[39m np\u001b[39m.\u001b[39msum(\n\u001b[1;32m      <a href='vscode-notebook-cell:/home/vitabile/Documents/Polito/Computational%20Intelligence/GitHub-CI/set-covering2/single-state.ipynb#X44sZmlsZQ%3D%3D?line=2'>3</a>\u001b[0m         reduce(\n\u001b[1;32m      <a href='vscode-notebook-cell:/home/vitabile/Documents/Polito/Computational%20Intelligence/GitHub-CI/set-covering2/single-state.ipynb#X44sZmlsZQ%3D%3D?line=3'>4</a>\u001b[0m             np\u001b[39m.\u001b[39mlogical_or,\n\u001b[0;32m----> <a href='vscode-notebook-cell:/home/vitabile/Documents/Polito/Computational%20Intelligence/GitHub-CI/set-covering2/single-state.ipynb#X44sZmlsZQ%3D%3D?line=4'>5</a>\u001b[0m             [sets[i] \u001b[39mfor\u001b[39;00m i, t \u001b[39min\u001b[39;00m \u001b[39menumerate\u001b[39m(state) \u001b[39mif\u001b[39;00m t],\n\u001b[1;32m      <a href='vscode-notebook-cell:/home/vitabile/Documents/Polito/Computational%20Intelligence/GitHub-CI/set-covering2/single-state.ipynb#X44sZmlsZQ%3D%3D?line=5'>6</a>\u001b[0m             \u001b[39mFalse\u001b[39;00m,\n\u001b[1;32m      <a href='vscode-notebook-cell:/home/vitabile/Documents/Polito/Computational%20Intelligence/GitHub-CI/set-covering2/single-state.ipynb#X44sZmlsZQ%3D%3D?line=6'>7</a>\u001b[0m         )\n\u001b[1;32m      <a href='vscode-notebook-cell:/home/vitabile/Documents/Polito/Computational%20Intelligence/GitHub-CI/set-covering2/single-state.ipynb#X44sZmlsZQ%3D%3D?line=7'>8</a>\u001b[0m     )\n\u001b[1;32m      <a href='vscode-notebook-cell:/home/vitabile/Documents/Polito/Computational%20Intelligence/GitHub-CI/set-covering2/single-state.ipynb#X44sZmlsZQ%3D%3D?line=8'>9</a>\u001b[0m     \u001b[39mreturn\u001b[39;00m num_true, \u001b[39m-\u001b[39m\u001b[39msum\u001b[39m(state)\n",
      "\u001b[1;32m/home/vitabile/Documents/Polito/Computational Intelligence/GitHub-CI/set-covering2/single-state.ipynb Cell 20\u001b[0m line \u001b[0;36m5\n\u001b[1;32m      <a href='vscode-notebook-cell:/home/vitabile/Documents/Polito/Computational%20Intelligence/GitHub-CI/set-covering2/single-state.ipynb#X44sZmlsZQ%3D%3D?line=0'>1</a>\u001b[0m \u001b[39mdef\u001b[39;00m \u001b[39mfitness\u001b[39m(state, sets):\n\u001b[1;32m      <a href='vscode-notebook-cell:/home/vitabile/Documents/Polito/Computational%20Intelligence/GitHub-CI/set-covering2/single-state.ipynb#X44sZmlsZQ%3D%3D?line=1'>2</a>\u001b[0m     num_true \u001b[39m=\u001b[39m np\u001b[39m.\u001b[39msum(\n\u001b[1;32m      <a href='vscode-notebook-cell:/home/vitabile/Documents/Polito/Computational%20Intelligence/GitHub-CI/set-covering2/single-state.ipynb#X44sZmlsZQ%3D%3D?line=2'>3</a>\u001b[0m         reduce(\n\u001b[1;32m      <a href='vscode-notebook-cell:/home/vitabile/Documents/Polito/Computational%20Intelligence/GitHub-CI/set-covering2/single-state.ipynb#X44sZmlsZQ%3D%3D?line=3'>4</a>\u001b[0m             np\u001b[39m.\u001b[39mlogical_or,\n\u001b[0;32m----> <a href='vscode-notebook-cell:/home/vitabile/Documents/Polito/Computational%20Intelligence/GitHub-CI/set-covering2/single-state.ipynb#X44sZmlsZQ%3D%3D?line=4'>5</a>\u001b[0m             [sets[i] \u001b[39mfor\u001b[39;00m i, t \u001b[39min\u001b[39;00m \u001b[39menumerate\u001b[39m(state) \u001b[39mif\u001b[39;00m t],\n\u001b[1;32m      <a href='vscode-notebook-cell:/home/vitabile/Documents/Polito/Computational%20Intelligence/GitHub-CI/set-covering2/single-state.ipynb#X44sZmlsZQ%3D%3D?line=5'>6</a>\u001b[0m             \u001b[39mFalse\u001b[39;00m,\n\u001b[1;32m      <a href='vscode-notebook-cell:/home/vitabile/Documents/Polito/Computational%20Intelligence/GitHub-CI/set-covering2/single-state.ipynb#X44sZmlsZQ%3D%3D?line=6'>7</a>\u001b[0m         )\n\u001b[1;32m      <a href='vscode-notebook-cell:/home/vitabile/Documents/Polito/Computational%20Intelligence/GitHub-CI/set-covering2/single-state.ipynb#X44sZmlsZQ%3D%3D?line=7'>8</a>\u001b[0m     )\n\u001b[1;32m      <a href='vscode-notebook-cell:/home/vitabile/Documents/Polito/Computational%20Intelligence/GitHub-CI/set-covering2/single-state.ipynb#X44sZmlsZQ%3D%3D?line=8'>9</a>\u001b[0m     \u001b[39mreturn\u001b[39;00m num_true, \u001b[39m-\u001b[39m\u001b[39msum\u001b[39m(state)\n",
      "\u001b[0;31mKeyboardInterrupt\u001b[0m: "
     ]
    }
   ],
   "source": [
    "max_iteration = 100_000\n",
    "for sets, initial_state, (p, d) in problems:\n",
    "    solution_state, goodness, evaluations = SAHC(sets, p, initial_state, max_iteration)\n",
    "    print(\n",
    "        f\"Stepest-step Hill Climbing:\\nDensity: {d}\\nProblem size: {p}\\nNumber of calls to fitness function: {evaluations:,}\\nGoodness: {goodness}\\n\"\n",
    "    )"
   ]
  },
  {
   "cell_type": "markdown",
   "metadata": {},
   "source": [
    "### Steepest Ascent w/Replacement "
   ]
  },
  {
   "cell_type": "code",
   "execution_count": 30,
   "metadata": {},
   "outputs": [],
   "source": [
    "def SAHC_with_replacement(sets, problem_size, state, max_iteration, n):\n",
    "    \"\"\"\n",
    "    Steepest Ascent w/Repleacement Hill Climbing implementation.\n",
    "\n",
    "    Args:\n",
    "        sets: 2D boolean array;\n",
    "        problem_size: the number of sets and points;\n",
    "        state: initial state;\n",
    "        max_iteration: the maximum number of iteration;\n",
    "        n: number of tweaks for each iteration\n",
    "\n",
    "    Returns:\n",
    "        state: solution state;\n",
    "        goodness: the result of the fitness function on the solution state;\n",
    "        evaluations: number of evaluations;\n",
    "\n",
    "    \"\"\"\n",
    "    count = 0\n",
    "    limit = problem_size // 25\n",
    "    goodness = fitness(state, sets)\n",
    "    evaluations = (max_iteration * n) + 1\n",
    "    for i in range(max_iteration):\n",
    "        if count == limit:\n",
    "            evaluations = (i * n) + 1\n",
    "            break\n",
    "        new_state = tweak(state, problem_size)\n",
    "        new_state_goodness = fitness(new_state, sets)\n",
    "        for _ in range(n):\n",
    "            tmp = tweak(state, problem_size)\n",
    "            tmp_goodness = fitness(tmp, sets)\n",
    "            if tmp_goodness > new_state_goodness:\n",
    "                new_state = tmp\n",
    "                new_state_goodness = tmp_goodness\n",
    "        if new_state_goodness > goodness:\n",
    "            state = new_state\n",
    "            goodness = new_state_goodness\n",
    "            count = 0\n",
    "        count += 1\n",
    "    return state, goodness, evaluations"
   ]
  },
  {
   "cell_type": "code",
   "execution_count": 31,
   "metadata": {},
   "outputs": [
    {
     "name": "stdout",
     "output_type": "stream",
     "text": [
      "Stepest-step Hill Climbing with number of tweaks 20:\n",
      "Density: 0.3\n",
      "Problem size: 100\n",
      "Number of calls to fitness function: 561\n",
      "Goodness: (100, -9)\n",
      "\n",
      "Stepest-step Hill Climbing with number of tweaks 20:\n",
      "Density: 0.7\n",
      "Problem size: 100\n",
      "Number of calls to fitness function: 421\n",
      "Goodness: (100, -4)\n",
      "\n",
      "Stepest-step Hill Climbing with number of tweaks 20:\n",
      "Density: 0.3\n",
      "Problem size: 1000\n",
      "Number of calls to fitness function: 9,361\n",
      "Goodness: (1000, -15)\n",
      "\n",
      "Stepest-step Hill Climbing with number of tweaks 20:\n",
      "Density: 0.7\n",
      "Problem size: 1000\n",
      "Number of calls to fitness function: 8,161\n",
      "Goodness: (1000, -6)\n",
      "\n",
      "Stepest-step Hill Climbing with number of tweaks 20:\n",
      "Density: 0.3\n",
      "Problem size: 5000\n",
      "Number of calls to fitness function: 49,001\n",
      "Goodness: (5000, -19)\n",
      "\n",
      "Stepest-step Hill Climbing with number of tweaks 20:\n",
      "Density: 0.7\n",
      "Problem size: 5000\n",
      "Number of calls to fitness function: 49,021\n",
      "Goodness: (5000, -7)\n",
      "\n"
     ]
    }
   ],
   "source": [
    "max_iteration = 100_000\n",
    "n = 20\n",
    "for sets, initial_state, (p, d) in problems:\n",
    "    solution_state, goodness, evaluations = SAHC_with_replacement(sets, p, initial_state, max_iteration, n)\n",
    "    print(\n",
    "        f\"Steepest Ascent with replacement Hill Climbing with number of tweaks {n}:\\nDensity: {d}\\nProblem size: {p}\\nNumber of calls to fitness function: {evaluations:,}\\nGoodness: {goodness}\\n\"\n",
    "    )"
   ]
  },
  {
   "cell_type": "markdown",
   "metadata": {},
   "source": [
    "### K Population Random Mutation Hill Climbing"
   ]
  },
  {
   "cell_type": "code",
   "execution_count": 33,
   "metadata": {},
   "outputs": [],
   "source": [
    "def k_population_RMHC(sets, problem_size, max_iteration, k):\n",
    "    \"\"\"\n",
    "    Random Mutation with K population Hill Climbing implementation.\n",
    "\n",
    "    Args:\n",
    "        sets: 2D boolean array;\n",
    "        problem_size: the number of sets and points;\n",
    "        state: initial state;\n",
    "        max_iteration: the maximum number of iteration;\n",
    "        k: number of population\n",
    "\n",
    "    Returns:\n",
    "        state: solution state;\n",
    "        goodness: the result of the fitness function on the solution state;\n",
    "        evaluations: number of evaluations;\n",
    "\n",
    "    \"\"\"\n",
    "    number_of_evaluations = 0\n",
    "    solution_states = []\n",
    "    goodness_states = []\n",
    "    for _ in range(k):\n",
    "        state = generate_initial_state(0.3, problem_size)\n",
    "        solution_state, goodness, evaluations = RMHC(sets, problem_size, state, max_iteration)\n",
    "        solution_states.append(solution_state)\n",
    "        goodness_states.append(goodness)\n",
    "        number_of_evaluations += evaluations\n",
    "\n",
    "    solution_goodness = max(goodness_states)\n",
    "    return solution_states[goodness_states.index(solution_goodness)], solution_goodness, number_of_evaluations"
   ]
  },
  {
   "cell_type": "code",
   "execution_count": 35,
   "metadata": {},
   "outputs": [
    {
     "name": "stdout",
     "output_type": "stream",
     "text": [
      "Random Mutation Hill Climbing with 5 random population:\n",
      "Density: 0.3\n",
      "Problem size: 100\n",
      "Number of calls to fitness function: 877\n",
      "Goodness: (100, -9)\n",
      "\n",
      "Random Mutation Hill Climbing with 5 random population:\n",
      "Density: 0.7\n",
      "Problem size: 100\n",
      "Number of calls to fitness function: 1002\n",
      "Goodness: (100, -4)\n",
      "\n",
      "Random Mutation Hill Climbing with 5 random population:\n",
      "Density: 0.3\n",
      "Problem size: 1000\n",
      "Number of calls to fitness function: 19700\n",
      "Goodness: (1000, -14)\n",
      "\n",
      "Random Mutation Hill Climbing with 5 random population:\n",
      "Density: 0.7\n",
      "Problem size: 1000\n",
      "Number of calls to fitness function: 23151\n",
      "Goodness: (1000, -5)\n",
      "\n",
      "Random Mutation Hill Climbing with 5 random population:\n",
      "Density: 0.3\n",
      "Problem size: 5000\n",
      "Number of calls to fitness function: 129277\n",
      "Goodness: (5000, -19)\n",
      "\n",
      "Random Mutation Hill Climbing with 5 random population:\n",
      "Density: 0.7\n",
      "Problem size: 5000\n",
      "Number of calls to fitness function: 145526\n",
      "Goodness: (5000, -6)\n",
      "\n"
     ]
    }
   ],
   "source": [
    "max_iteration = 100_000\n",
    "k = 5\n",
    "for sets, _, (p, d) in problems:\n",
    "    solution_state, goodness, evaluations = k_population_RMHC(sets, p, max_iteration, k)\n",
    "    print(\n",
    "        f\"Random Mutation Hill Climbing with {k} random population:\\nDensity: {d}\\nProblem size: {p}\\nNumber of calls to fitness function: {evaluations:,}\\nGoodness: {goodness}\\n\"\n",
    "    )"
   ]
  },
  {
   "cell_type": "markdown",
   "metadata": {},
   "source": [
    "### K Population Steepest Ascent Hill Climbing"
   ]
  },
  {
   "cell_type": "code",
   "execution_count": 39,
   "metadata": {},
   "outputs": [],
   "source": [
    "def k_population_SAHC(sets, problem_size, max_iteration, n, k):\n",
    "    \"\"\"\n",
    "    Steepest Ascent w/Replacement with K population Hill Climbing implementation.\n",
    "\n",
    "    Args:\n",
    "        sets: 2D boolean array;\n",
    "        problem_size: the number of sets and points;\n",
    "        state: initial state;\n",
    "        max_iteration: the maximum number of iteration;\n",
    "        n: number of tweaks for each iteration;\n",
    "        k: number of population;\n",
    "\n",
    "    Returns:\n",
    "        state: solution state;\n",
    "        goodness: the result of the fitness function on the solution state;\n",
    "        evaluations: number of evaluations;\n",
    "\n",
    "    \"\"\"\n",
    "    number_of_evaluations = 0\n",
    "    solution_states = []\n",
    "    goodness_states = []\n",
    "    for _ in range(k):\n",
    "        state = generate_initial_state(0.3, p)\n",
    "        solution_state, goodness, evaluations = SAHC(sets, problem_size, state, max_iteration, n)\n",
    "        solution_states.append(solution_state)\n",
    "        goodness_states.append(goodness)\n",
    "        number_of_evaluations += evaluations\n",
    "\n",
    "    solution_goodness = max(goodness_states)\n",
    "    return solution_states[goodness_states.index(solution_goodness)], solution_goodness, number_of_evaluations"
   ]
  },
  {
   "cell_type": "code",
   "execution_count": 40,
   "metadata": {},
   "outputs": [
    {
     "name": "stdout",
     "output_type": "stream",
     "text": [
      "Stepest-step Hill Climbing with number of tweaks 20 and 5 random population:\n",
      "Density: 0.3\n",
      "Problem size: 100\n",
      "Number of calls to fitness function: 1,165\n",
      "Goodness: (100, -7)\n",
      "\n",
      "Stepest-step Hill Climbing with number of tweaks 20 and 5 random population:\n",
      "Density: 0.7\n",
      "Problem size: 100\n",
      "Number of calls to fitness function: 1,875\n",
      "Goodness: (100, -4)\n",
      "\n",
      "Stepest-step Hill Climbing with number of tweaks 20 and 5 random population:\n",
      "Density: 0.3\n",
      "Problem size: 1000\n",
      "Number of calls to fitness function: 25,945\n",
      "Goodness: (1000, -14)\n",
      "\n",
      "Stepest-step Hill Climbing with number of tweaks 20 and 5 random population:\n",
      "Density: 0.7\n",
      "Problem size: 1000\n",
      "Number of calls to fitness function: 27,055\n",
      "Goodness: (1000, -5)\n",
      "\n",
      "Stepest-step Hill Climbing with number of tweaks 20 and 5 random population:\n",
      "Density: 0.3\n",
      "Problem size: 5000\n",
      "Number of calls to fitness function: 157,435\n",
      "Goodness: (5000, -18)\n",
      "\n",
      "Stepest-step Hill Climbing with number of tweaks 20 and 5 random population:\n",
      "Density: 0.7\n",
      "Problem size: 5000\n",
      "Number of calls to fitness function: 180,105\n",
      "Goodness: (5000, -6)\n",
      "\n"
     ]
    }
   ],
   "source": [
    "max_iteration = 100_000\n",
    "k = 5\n",
    "n = 10\n",
    "for sets, _, (p, d) in problems:\n",
    "    solution_state, goodness, evaluations = k_population_SAHC(sets, p, max_iteration, n, k)\n",
    "    print(\n",
    "        f\"Stepest-step Hill Climbing with number of tweaks 20 and 5 random population:\\nDensity: {d}\\nProblem size: {p}\\nNumber of calls to fitness function: {evaluations:,}\\nGoodness: {goodness}\\n\"\n",
    "    )"
   ]
  },
  {
   "cell_type": "markdown",
   "metadata": {},
   "source": [
    "### Simulated Annealing"
   ]
  },
  {
   "cell_type": "code",
   "execution_count": 36,
   "metadata": {},
   "outputs": [],
   "source": [
    "def simulated_annealing(sets, problem_size, state, max_iteration):\n",
    "    \"\"\"\n",
    "    Simulated Annealing implementation.\n",
    "\n",
    "    Args:\n",
    "        sets: 2D boolean array;\n",
    "        problem_size: the number of sets and points;\n",
    "        state: initial state;\n",
    "        max_iteration: the maximum number of iteration;\n",
    "\n",
    "    Returns:\n",
    "        state: solution state;\n",
    "        goodness: the result of the fitness function on the solution state;\n",
    "        evaluations: number of evaluations;\n",
    "\n",
    "    \"\"\"\n",
    "    count = 0\n",
    "    limit = problem_size // 2\n",
    "    goodness = fitness(state, sets)\n",
    "    evaluations = max_iteration + 1\n",
    "    for i in range(max_iteration):\n",
    "        t = 1 - ((i + 1) / max_iteration)\n",
    "        if t == 0 or count == limit:\n",
    "            evaluations = i + 1\n",
    "            break\n",
    "        new_state = tweak(state, problem_size)\n",
    "        goodness_new_state = fitness(new_state, sets)\n",
    "        if goodness_new_state >= goodness or random() > np.exp((goodness[1] - goodness_new_state[1]) / t):\n",
    "            state = new_state\n",
    "            goodness = goodness_new_state\n",
    "            count = 0\n",
    "        count += 1\n",
    "\n",
    "    return state, goodness, evaluations"
   ]
  },
  {
   "cell_type": "code",
   "execution_count": 37,
   "metadata": {},
   "outputs": [
    {
     "name": "stdout",
     "output_type": "stream",
     "text": [
      "Simulated Annealing:\n",
      "Density: 0.3\n",
      "Problem size: 100\n",
      "Number of calls to fitness function: 253\n",
      "Goodness: (100, -10)\n",
      "\n",
      "Simulated Annealing:\n",
      "Density: 0.7\n",
      "Problem size: 100\n",
      "Number of calls to fitness function: 311\n",
      "Goodness: (100, -5)\n",
      "\n",
      "Simulated Annealing:\n",
      "Density: 0.3\n",
      "Problem size: 1000\n",
      "Number of calls to fitness function: 11456\n",
      "Goodness: (1000, -14)\n",
      "\n",
      "Simulated Annealing:\n",
      "Density: 0.7\n",
      "Problem size: 1000\n",
      "Number of calls to fitness function: 4036\n",
      "Goodness: (1000, -6)\n",
      "\n"
     ]
    },
    {
     "name": "stderr",
     "output_type": "stream",
     "text": [
      "/tmp/ipykernel_3887/63336358.py:28: RuntimeWarning: overflow encountered in exp\n",
      "  if goodness_new_state >= goodness or random() > np.exp((goodness[1] - goodness_new_state[1]) / t):\n"
     ]
    },
    {
     "name": "stdout",
     "output_type": "stream",
     "text": [
      "Simulated Annealing:\n",
      "Density: 0.3\n",
      "Problem size: 5000\n",
      "Number of calls to fitness function: 100000\n",
      "Goodness: (5000, -20)\n",
      "\n",
      "Simulated Annealing:\n",
      "Density: 0.7\n",
      "Problem size: 5000\n",
      "Number of calls to fitness function: 46129\n",
      "Goodness: (5000, -8)\n",
      "\n"
     ]
    }
   ],
   "source": [
    "max_iteration = 100_000\n",
    "for sets, initial_state, (p, d) in problems:\n",
    "    solution_state, goodness, evaluations = simulated_annealing(sets, p, initial_state, max_iteration)\n",
    "    print(\n",
    "        f\"Simulated Annealing:\\nDensity: {d}\\nProblem size: {p}\\nNumber of calls to fitness function: {evaluations:,}\\nGoodness: {goodness}\\n\"\n",
    "    )"
   ]
  }
 ],
 "metadata": {
  "kernelspec": {
   "display_name": ".venv",
   "language": "python",
   "name": "python3"
  },
  "language_info": {
   "codemirror_mode": {
    "name": "ipython",
    "version": 3
   },
   "file_extension": ".py",
   "mimetype": "text/x-python",
   "name": "python",
   "nbconvert_exporter": "python",
   "pygments_lexer": "ipython3",
   "version": "3.10.12"
  }
 },
 "nbformat": 4,
 "nbformat_minor": 2
}
