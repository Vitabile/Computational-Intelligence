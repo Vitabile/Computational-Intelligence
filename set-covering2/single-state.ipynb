{
 "cells": [
  {
   "cell_type": "markdown",
   "metadata": {},
   "source": [
    "## Halloween Challenge\n",
    "Find the best solution with the fewest calls to the fitness functions for:\n",
    "* num_points = [100, 1_000, 5_000]\n",
    "* num_sets = num_points\n",
    "* density = [.3, .7]"
   ]
  },
  {
   "cell_type": "markdown",
   "metadata": {},
   "source": [
    "### Local Search - Set Covering\n",
    "To resolve this challenge I implemented these different **Single-State Methods**:\n",
    "* Random-Mutation Hill Climbing\n",
    "* Steepest Ascent Hill Climbing\n",
    "* K population Random-Mutation Hill Climbing\n",
    "* K population Steepest Ascent Hill Climbing\n",
    "* Simulated Annealing"
   ]
  },
  {
   "cell_type": "code",
   "execution_count": 161,
   "metadata": {},
   "outputs": [],
   "source": [
    "from random import random, randint, seed\n",
    "from functools import reduce\n",
    "from pprint import pprint\n",
    "import numpy as np\n",
    "from copy import copy\n",
    "from itertools import product\n",
    "from scipy import sparse"
   ]
  },
  {
   "cell_type": "code",
   "execution_count": 12,
   "metadata": {},
   "outputs": [],
   "source": [
    "def make_set_covering_problem(num_points, num_sets, density):\n",
    "    \"\"\"Returns a sparse array where rows are sets and columns are the covered items\"\"\"\n",
    "    seed(num_points * 2654435761 + num_sets + density)\n",
    "    sets = sparse.lil_array((num_sets, num_points), dtype=bool)\n",
    "    for s, p in product(range(num_sets), range(num_points)):\n",
    "        if random() < density:\n",
    "            sets[s, p] = True\n",
    "    for p in range(num_points):\n",
    "        sets[randint(0, num_sets - 1), p] = True\n",
    "    return sets.toarray()"
   ]
  },
  {
   "cell_type": "code",
   "execution_count": 110,
   "metadata": {},
   "outputs": [],
   "source": [
    "PROBLEM_SIZE = [100, 1_000, 5_000]\n",
    "DENSITY = [0.3, 0.7]"
   ]
  },
  {
   "cell_type": "markdown",
   "metadata": {},
   "source": [
    "I defined how fitness function a function that return the number of covered cells, and the negative number of sets used"
   ]
  },
  {
   "cell_type": "code",
   "execution_count": 126,
   "metadata": {},
   "outputs": [],
   "source": [
    "def fitness(state, sets):\n",
    "    num_true = np.sum(\n",
    "        reduce(\n",
    "            np.logical_or,\n",
    "            [sets[i] for i, t in enumerate(state) if t],\n",
    "            False,\n",
    "        )\n",
    "    )\n",
    "    return num_true, -sum(state)"
   ]
  },
  {
   "cell_type": "code",
   "execution_count": 133,
   "metadata": {},
   "outputs": [],
   "source": [
    "def generate_initial_state(prob, problem_size):\n",
    "    return [True if random() < prob else False for _ in range(problem_size)]"
   ]
  },
  {
   "cell_type": "markdown",
   "metadata": {},
   "source": [
    "With the following cell I checked if all the configuration of the problem are solvable and saved the sets, initial state and conf in an array problems"
   ]
  },
  {
   "cell_type": "code",
   "execution_count": 138,
   "metadata": {},
   "outputs": [],
   "source": [
    "problems = []\n",
    "for p in PROBLEM_SIZE:\n",
    "    for d in DENSITY:\n",
    "        initial_state = generate_initial_state(0.3, p)\n",
    "        sets = make_set_covering_problem(p, p, d)\n",
    "        assert fitness([True for _ in range(p)], sets)[0] == p, \"Problem not solvable\"\n",
    "        problems.append((sets, initial_state, (p, d)))"
   ]
  },
  {
   "cell_type": "markdown",
   "metadata": {},
   "source": [
    "I defined a tweak function that random modify one set from taken to untaken or from untaken to taken "
   ]
  },
  {
   "cell_type": "code",
   "execution_count": 127,
   "metadata": {},
   "outputs": [],
   "source": [
    "def tweak(state, problem_size):\n",
    "    new_state = copy(state)\n",
    "    index = randint(0, problem_size - 1)\n",
    "    new_state[index] = not state[index]\n",
    "    return new_state"
   ]
  },
  {
   "cell_type": "markdown",
   "metadata": {},
   "source": [
    "### Random Mutation Hill Climbing"
   ]
  },
  {
   "cell_type": "code",
   "execution_count": 131,
   "metadata": {},
   "outputs": [],
   "source": [
    "def RMHC(sets, problem_size, state, max_iteration):\n",
    "    goodness = fitness(state, sets)\n",
    "    for _ in range(max_iteration):\n",
    "        new_state = tweak(state, problem_size)\n",
    "        goodness_new_state = fitness(new_state, sets)\n",
    "        if goodness_new_state >= goodness:\n",
    "            state = new_state\n",
    "            goodness = goodness_new_state\n",
    "    return state, goodness, max_iteration + 1"
   ]
  },
  {
   "cell_type": "code",
   "execution_count": 140,
   "metadata": {},
   "outputs": [
    {
     "name": "stdout",
     "output_type": "stream",
     "text": [
      "Random Mutation Hill Climbing with 100 steps:\n",
      "Density: 0.3\n",
      "Problem size: 100\n",
      "Number of calls to fitness function: 101\n",
      "Goodness: (100, -12)\n",
      "\n",
      "Random Mutation Hill Climbing with 100 steps:\n",
      "Density: 0.7\n",
      "Problem size: 100\n",
      "Number of calls to fitness function: 101\n",
      "Goodness: (100, -9)\n",
      "\n",
      "Random Mutation Hill Climbing with 100 steps:\n",
      "Density: 0.3\n",
      "Problem size: 1000\n",
      "Number of calls to fitness function: 101\n",
      "Goodness: (1000, -298)\n",
      "\n",
      "Random Mutation Hill Climbing with 100 steps:\n",
      "Density: 0.7\n",
      "Problem size: 1000\n",
      "Number of calls to fitness function: 101\n",
      "Goodness: (1000, -273)\n",
      "\n",
      "Random Mutation Hill Climbing with 100 steps:\n",
      "Density: 0.3\n",
      "Problem size: 5000\n",
      "Number of calls to fitness function: 101\n",
      "Goodness: (5000, -1452)\n",
      "\n",
      "Random Mutation Hill Climbing with 100 steps:\n",
      "Density: 0.7\n",
      "Problem size: 5000\n",
      "Number of calls to fitness function: 101\n",
      "Goodness: (5000, -1456)\n",
      "\n"
     ]
    }
   ],
   "source": [
    "for sets, initial_state, (p, d) in problems:\n",
    "    solution_state, goodness, evaluations = RMHC(sets, p, initial_state, 100)\n",
    "    print(\n",
    "        f\"Random Mutation Hill Climbing with 100 steps:\\nDensity: {d}\\nProblem size: {p}\\nNumber of calls to fitness function: {evaluations}\\nGoodness: {goodness}\\n\"\n",
    "    )"
   ]
  },
  {
   "cell_type": "markdown",
   "metadata": {},
   "source": [
    "### Steepest Ascent Hill Climbing"
   ]
  },
  {
   "cell_type": "code",
   "execution_count": 146,
   "metadata": {},
   "outputs": [],
   "source": [
    "def SAHC(sets, problem_size, state, max_iteration, number_of_teawks):\n",
    "    goodness = fitness(state, sets)\n",
    "    for _ in range(max_iteration):\n",
    "        new_state = tweak(state, problem_size)\n",
    "        new_state_goodness = fitness(new_state, sets)\n",
    "        for _ in range(number_of_teawks):\n",
    "            tmp = tweak(state, problem_size)\n",
    "            tmp_goodness = fitness(tmp, sets)\n",
    "            if tmp_goodness > new_state_goodness:\n",
    "                new_state = tmp\n",
    "                new_state_goodness = tmp_goodness\n",
    "        if new_state_goodness > goodness:\n",
    "            state = new_state\n",
    "            goodness = new_state_goodness\n",
    "    return state, goodness, (max_iteration * number_of_teawks) + 1"
   ]
  },
  {
   "cell_type": "code",
   "execution_count": 147,
   "metadata": {},
   "outputs": [
    {
     "name": "stdout",
     "output_type": "stream",
     "text": [
      "Stepest-step Hill Climbing with 100 steps and number of tweaks 20:\n",
      "Density: 0.3\n",
      "Problem size: 100\n",
      "Number of calls to fitness function: 2001\n",
      "Goodness: (100, -9)\n",
      "\n",
      "Stepest-step Hill Climbing with 100 steps and number of tweaks 20:\n",
      "Density: 0.7\n",
      "Problem size: 100\n",
      "Number of calls to fitness function: 2001\n",
      "Goodness: (100, -3)\n",
      "\n",
      "Stepest-step Hill Climbing with 100 steps and number of tweaks 20:\n",
      "Density: 0.3\n",
      "Problem size: 1000\n",
      "Number of calls to fitness function: 2001\n",
      "Goodness: (1000, -227)\n",
      "\n",
      "Stepest-step Hill Climbing with 100 steps and number of tweaks 20:\n",
      "Density: 0.7\n",
      "Problem size: 1000\n",
      "Number of calls to fitness function: 2001\n",
      "Goodness: (1000, -201)\n",
      "\n",
      "Stepest-step Hill Climbing with 100 steps and number of tweaks 20:\n",
      "Density: 0.3\n",
      "Problem size: 5000\n",
      "Number of calls to fitness function: 2001\n",
      "Goodness: (5000, -1380)\n",
      "\n",
      "Stepest-step Hill Climbing with 100 steps and number of tweaks 20:\n",
      "Density: 0.7\n",
      "Problem size: 5000\n",
      "Number of calls to fitness function: 2001\n",
      "Goodness: (5000, -1388)\n",
      "\n"
     ]
    }
   ],
   "source": [
    "for sets, initial_state, (p, d) in problems:\n",
    "    solution_state, goodness, evaluations = SAHC(sets, p, initial_state, 100, 20)\n",
    "    print(\n",
    "        f\"Stepest-step Hill Climbing with 100 steps and number of tweaks 20:\\nDensity: {d}\\nProblem size: {p}\\nNumber of calls to fitness function: {evaluations}\\nGoodness: {goodness}\\n\"\n",
    "    )"
   ]
  },
  {
   "cell_type": "markdown",
   "metadata": {},
   "source": [
    "### K Population Random Mutation Hill Climbing"
   ]
  },
  {
   "cell_type": "code",
   "execution_count": 155,
   "metadata": {},
   "outputs": [],
   "source": [
    "def k_population_RMHC(sets, p, max_iteration, k):\n",
    "    number_of_evaluations = 0\n",
    "    solution_states = []\n",
    "    goodness_states = []\n",
    "    for _ in range(k):\n",
    "        state = generate_initial_state(0.3, p)\n",
    "        solution_state, goodness, evaluations = RMHC(sets, p, state, max_iteration)\n",
    "        solution_states.append(solution_state)\n",
    "        goodness_states.append(goodness)\n",
    "        number_of_evaluations += evaluations\n",
    "\n",
    "    solution_goodness = max(goodness_states)\n",
    "    return solution_states[goodness_states.index(solution_goodness)], solution_goodness, number_of_evaluations"
   ]
  },
  {
   "cell_type": "code",
   "execution_count": 156,
   "metadata": {},
   "outputs": [
    {
     "name": "stdout",
     "output_type": "stream",
     "text": [
      "Random Mutation Hill Climbing with 100 steps and 5 random population:\n",
      "Density: 0.3\n",
      "Problem size: 100\n",
      "Number of calls to fitness function: 505\n",
      "Goodness: (100, -9)\n",
      "\n",
      "Random Mutation Hill Climbing with 100 steps and 5 random population:\n",
      "Density: 0.7\n",
      "Problem size: 100\n",
      "Number of calls to fitness function: 505\n",
      "Goodness: (100, -7)\n",
      "\n",
      "Random Mutation Hill Climbing with 100 steps and 5 random population:\n",
      "Density: 0.3\n",
      "Problem size: 1000\n",
      "Number of calls to fitness function: 505\n",
      "Goodness: (1000, -262)\n",
      "\n",
      "Random Mutation Hill Climbing with 100 steps and 5 random population:\n",
      "Density: 0.7\n",
      "Problem size: 1000\n",
      "Number of calls to fitness function: 505\n",
      "Goodness: (1000, -257)\n",
      "\n",
      "Random Mutation Hill Climbing with 100 steps and 5 random population:\n",
      "Density: 0.3\n",
      "Problem size: 5000\n",
      "Number of calls to fitness function: 505\n",
      "Goodness: (5000, -1433)\n",
      "\n",
      "Random Mutation Hill Climbing with 100 steps and 5 random population:\n",
      "Density: 0.7\n",
      "Problem size: 5000\n",
      "Number of calls to fitness function: 505\n",
      "Goodness: (5000, -1423)\n",
      "\n"
     ]
    }
   ],
   "source": [
    "for sets, _, (p, d) in problems:\n",
    "    solution_state, goodness, evaluations = k_population_RMHC(sets, p, 100, 5)\n",
    "    print(\n",
    "        f\"Random Mutation Hill Climbing with 100 steps and 5 random population:\\nDensity: {d}\\nProblem size: {p}\\nNumber of calls to fitness function: {evaluations}\\nGoodness: {goodness}\\n\"\n",
    "    )"
   ]
  },
  {
   "cell_type": "markdown",
   "metadata": {},
   "source": [
    "### K Population Steepest Ascent Hill Climbing"
   ]
  },
  {
   "cell_type": "code",
   "execution_count": 157,
   "metadata": {},
   "outputs": [],
   "source": [
    "def k_population_SAHC(sets, p, max_iteration, k, n):\n",
    "    number_of_evaluations = 0\n",
    "    solution_states = []\n",
    "    goodness_states = []\n",
    "    for _ in range(k):\n",
    "        state = generate_initial_state(0.3, p)\n",
    "        solution_state, goodness, evaluations = SAHC(sets, p, state, max_iteration, n)\n",
    "        solution_states.append(solution_state)\n",
    "        goodness_states.append(goodness)\n",
    "        number_of_evaluations += evaluations\n",
    "\n",
    "    solution_goodness = max(goodness_states)\n",
    "    return solution_states[goodness_states.index(solution_goodness)], solution_goodness, number_of_evaluations"
   ]
  },
  {
   "cell_type": "code",
   "execution_count": 160,
   "metadata": {},
   "outputs": [
    {
     "name": "stdout",
     "output_type": "stream",
     "text": [
      "Stepest-step Hill Climbing with 100 steps, number of tweaks 20 and 5 random population:\n",
      "Density: 0.3\n",
      "Problem size: 100\n",
      "Number of calls to fitness function: 10020\n",
      "Goodness: (100, -7)\n",
      "\n",
      "Stepest-step Hill Climbing with 100 steps, number of tweaks 20 and 5 random population:\n",
      "Density: 0.7\n",
      "Problem size: 100\n",
      "Number of calls to fitness function: 10020\n",
      "Goodness: (100, -3)\n",
      "\n",
      "Stepest-step Hill Climbing with 100 steps, number of tweaks 20 and 5 random population:\n",
      "Density: 0.3\n",
      "Problem size: 1000\n",
      "Number of calls to fitness function: 10020\n",
      "Goodness: (1000, -195)\n",
      "\n",
      "Stepest-step Hill Climbing with 100 steps, number of tweaks 20 and 5 random population:\n",
      "Density: 0.7\n",
      "Problem size: 1000\n",
      "Number of calls to fitness function: 10020\n",
      "Goodness: (1000, -197)\n",
      "\n",
      "Stepest-step Hill Climbing with 100 steps, number of tweaks 20 and 5 random population:\n",
      "Density: 0.3\n",
      "Problem size: 5000\n",
      "Number of calls to fitness function: 10020\n",
      "Goodness: (5000, -1370)\n",
      "\n",
      "Stepest-step Hill Climbing with 100 steps, number of tweaks 20 and 5 random population:\n",
      "Density: 0.7\n",
      "Problem size: 5000\n",
      "Number of calls to fitness function: 10020\n",
      "Goodness: (5000, -1354)\n",
      "\n"
     ]
    }
   ],
   "source": [
    "for sets, _, (p, d) in problems:\n",
    "    solution_state, goodness, evaluations = k_population_SAHC(sets, p, 100, 20, 5)\n",
    "    print(\n",
    "        f\"Stepest-step Hill Climbing with 100 steps, number of tweaks 20 and 5 random population:\\nDensity: {d}\\nProblem size: {p}\\nNumber of calls to fitness function: {evaluations}\\nGoodness: {goodness}\\n\"\n",
    "    )"
   ]
  },
  {
   "cell_type": "markdown",
   "metadata": {},
   "source": [
    "### Simulated Annealing"
   ]
  },
  {
   "cell_type": "code",
   "execution_count": 178,
   "metadata": {},
   "outputs": [],
   "source": [
    "def simulated_annealing(sets, problem_size, state, max_iteration, t):\n",
    "    goodness = fitness(state, sets)\n",
    "    for _ in range(max_iteration):\n",
    "        new_state = tweak(state, problem_size)\n",
    "        goodness_new_state = fitness(new_state, sets)\n",
    "        if goodness_new_state >= goodness or random() > np.exp((goodness[1] - goodness_new_state[1]) / t):\n",
    "            state = new_state\n",
    "            goodness = goodness_new_state\n",
    "        t = t / 10\n",
    "    return state, goodness, max_iteration + 1"
   ]
  },
  {
   "cell_type": "code",
   "execution_count": 179,
   "metadata": {},
   "outputs": [
    {
     "name": "stderr",
     "output_type": "stream",
     "text": [
      "/tmp/ipykernel_3601/2618015769.py:6: RuntimeWarning: overflow encountered in exp\n",
      "  if goodness_new_state >= goodness or random() > np.exp((goodness[1] - goodness_new_state[1]) / t):\n"
     ]
    },
    {
     "name": "stdout",
     "output_type": "stream",
     "text": [
      "Random Mutation Hill Climbing with 100 steps:\n",
      "Density: 0.3\n",
      "Problem size: 100\n",
      "Number of calls to fitness function: 101\n",
      "Goodness: (100, -13)\n",
      "\n",
      "Random Mutation Hill Climbing with 100 steps:\n",
      "Density: 0.7\n",
      "Problem size: 100\n",
      "Number of calls to fitness function: 101\n",
      "Goodness: (100, -8)\n",
      "\n",
      "Random Mutation Hill Climbing with 100 steps:\n",
      "Density: 0.3\n",
      "Problem size: 1000\n",
      "Number of calls to fitness function: 101\n",
      "Goodness: (1000, -303)\n",
      "\n",
      "Random Mutation Hill Climbing with 100 steps:\n",
      "Density: 0.7\n",
      "Problem size: 1000\n",
      "Number of calls to fitness function: 101\n",
      "Goodness: (1000, -269)\n",
      "\n",
      "Random Mutation Hill Climbing with 100 steps:\n",
      "Density: 0.3\n",
      "Problem size: 5000\n",
      "Number of calls to fitness function: 101\n",
      "Goodness: (5000, -1455)\n",
      "\n",
      "Random Mutation Hill Climbing with 100 steps:\n",
      "Density: 0.7\n",
      "Problem size: 5000\n",
      "Number of calls to fitness function: 101\n",
      "Goodness: (5000, -1457)\n",
      "\n"
     ]
    }
   ],
   "source": [
    "for sets, initial_state, (p, d) in problems:\n",
    "    solution_state, goodness, evaluations = simulated_annealing(sets, p, initial_state, 100, 25)\n",
    "    print(\n",
    "        f\"Random Mutation Hill Climbing with 100 steps:\\nDensity: {d}\\nProblem size: {p}\\nNumber of calls to fitness function: {evaluations}\\nGoodness: {goodness}\\n\"\n",
    "    )"
   ]
  }
 ],
 "metadata": {
  "kernelspec": {
   "display_name": ".venv",
   "language": "python",
   "name": "python3"
  },
  "language_info": {
   "codemirror_mode": {
    "name": "ipython",
    "version": 3
   },
   "file_extension": ".py",
   "mimetype": "text/x-python",
   "name": "python",
   "nbconvert_exporter": "python",
   "pygments_lexer": "ipython3",
   "version": "3.10.12"
  }
 },
 "nbformat": 4,
 "nbformat_minor": 2
}
