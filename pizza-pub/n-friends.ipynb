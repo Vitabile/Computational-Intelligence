{
 "cells": [
  {
   "cell_type": "code",
   "execution_count": 1,
   "metadata": {},
   "outputs": [],
   "source": [
    "from collections import namedtuple\n",
    "from queue import SimpleQueue, LifoQueue\n",
    "from itertools import product\n",
    "from pprint import pprint"
   ]
  },
  {
   "cell_type": "markdown",
   "metadata": {},
   "source": [
    "I define the state how (ce_pizzeria,ds_pizzeria,ce_pub,ds_pub,bike). Where ce_pizzeria and ce_pub indicate the number of Computer Engineer in the pizzeria and pub, ds_pizzeria and ds_pub indicate the number of Data Scientist in the same two places, and bike indicates the position of bike ('pizzeria' or 'pub)."
   ]
  },
  {
   "cell_type": "code",
   "execution_count": 2,
   "metadata": {},
   "outputs": [],
   "source": [
    "State = namedtuple(\"State\", [\"ce_pizzeria\", \"ds_pizzeria\", \"ce_pub\", \"ds_pub\", \"bike\"])"
   ]
  },
  {
   "cell_type": "code",
   "execution_count": 3,
   "metadata": {},
   "outputs": [],
   "source": [
    "NUM_FRIENDS = 6\n",
    "BIKE_CAPACITY = 3"
   ]
  },
  {
   "cell_type": "markdown",
   "metadata": {},
   "source": [
    "I define a function to check if the state is a goal or not"
   ]
  },
  {
   "cell_type": "code",
   "execution_count": 4,
   "metadata": {},
   "outputs": [],
   "source": [
    "def goal_check(state):\n",
    "    return (\n",
    "        state.ce_pizzeria == 0\n",
    "        and state.ds_pizzeria == 0\n",
    "        and state.ce_pub == NUM_FRIENDS // 2\n",
    "        and state.ds_pub == NUM_FRIENDS // 2\n",
    "    )"
   ]
  },
  {
   "cell_type": "markdown",
   "metadata": {},
   "source": [
    "I define a function to verify if the state is a valid state or not, considering that all the value have to be positive and count(ce) <= count (ds) or count(ds) == 0"
   ]
  },
  {
   "cell_type": "code",
   "execution_count": 5,
   "metadata": {},
   "outputs": [],
   "source": [
    "def valid_state(state):\n",
    "    return (\n",
    "        state.ce_pizzeria >= 0\n",
    "        and state.ds_pizzeria >= 0\n",
    "        and state.ce_pub >= 0\n",
    "        and state.ds_pub >= 0\n",
    "        and (state.ce_pizzeria <= state.ds_pizzeria or state.ds_pizzeria == 0)\n",
    "        and (state.ce_pub <= state.ds_pub or state.ds_pub == 0)\n",
    "    )"
   ]
  },
  {
   "cell_type": "markdown",
   "metadata": {},
   "source": [
    "I define all the possible moves with move = (number_of_ce_to_move,number_of_ds_to_move) "
   ]
  },
  {
   "cell_type": "code",
   "execution_count": 6,
   "metadata": {},
   "outputs": [],
   "source": [
    "Move = namedtuple(\"Move\", [\"ce_in_bike\", \"ds_in_bike\"])"
   ]
  },
  {
   "cell_type": "code",
   "execution_count": 9,
   "metadata": {},
   "outputs": [],
   "source": [
    "moves = [\n",
    "    Move(ce, ds)\n",
    "    for ce, ds in product(range(BIKE_CAPACITY + 1), repeat=2)\n",
    "    if ce + ds != 0 and ce + ds <= BIKE_CAPACITY\n",
    "]"
   ]
  },
  {
   "cell_type": "code",
   "execution_count": 11,
   "metadata": {},
   "outputs": [],
   "source": [
    "def apply_move(state, move):\n",
    "    if state.bike == \"pizzeria\":\n",
    "        return State(\n",
    "            state.ce_pizzeria - move.ce_in_bike,\n",
    "            state.ds_pizzeria - move.ds_in_bike,\n",
    "            state.ce_pub + move.ce_in_bike,\n",
    "            state.ds_pub + move.ds_in_bike,\n",
    "            \"pub\",\n",
    "        )\n",
    "    return State(\n",
    "        state.ce_pizzeria + move.ce_in_bike,\n",
    "        state.ds_pizzeria + move.ds_in_bike,\n",
    "        state.ce_pub - move.ce_in_bike,\n",
    "        state.ds_pub - move.ds_in_bike,\n",
    "        \"pizzeria\",\n",
    "    )"
   ]
  },
  {
   "cell_type": "code",
   "execution_count": 12,
   "metadata": {},
   "outputs": [],
   "source": [
    "def search(frontier):\n",
    "    current_state = frontier.get()\n",
    "    visited_state = list(current_state)\n",
    "    steps = 0\n",
    "    while not goal_check(current_state):\n",
    "        steps += 1\n",
    "        for move in moves:\n",
    "            new_state = apply_move(current_state, move)\n",
    "            if valid_state(new_state) and not new_state in visited_state:\n",
    "                frontier.put(new_state)\n",
    "        current_state = frontier.get()\n",
    "        visited_state.append(current_state)\n",
    "    print(f\"solved in {steps}\")\n",
    "    return current_state"
   ]
  },
  {
   "cell_type": "code",
   "execution_count": 13,
   "metadata": {},
   "outputs": [
    {
     "name": "stdout",
     "output_type": "stream",
     "text": [
      "solved in 37\n",
      "solved in 9\n"
     ]
    }
   ],
   "source": [
    "fifo = SimpleQueue()\n",
    "lifo = LifoQueue()\n",
    "\n",
    "fifo.put(State(NUM_FRIENDS // 2, NUM_FRIENDS // 2, 0, 0, \"pizzeria\"))\n",
    "lifo.put(State(NUM_FRIENDS // 2, NUM_FRIENDS // 2, 0, 0, \"pizzeria\"))\n",
    "\n",
    "goal_fifo = search(fifo)\n",
    "goal_lifo = search(lifo)"
   ]
  },
  {
   "cell_type": "code",
   "execution_count": 14,
   "metadata": {},
   "outputs": [
    {
     "name": "stdout",
     "output_type": "stream",
     "text": [
      "State(ce_pizzeria=0, ds_pizzeria=0, ce_pub=3, ds_pub=3, bike='pub')\n",
      "State(ce_pizzeria=0, ds_pizzeria=0, ce_pub=3, ds_pub=3, bike='pub')\n"
     ]
    }
   ],
   "source": [
    "print(goal_fifo)\n",
    "print(goal_lifo)"
   ]
  }
 ],
 "metadata": {
  "kernelspec": {
   "display_name": ".venv",
   "language": "python",
   "name": "python3"
  },
  "language_info": {
   "codemirror_mode": {
    "name": "ipython",
    "version": 3
   },
   "file_extension": ".py",
   "mimetype": "text/x-python",
   "name": "python",
   "nbconvert_exporter": "python",
   "pygments_lexer": "ipython3",
   "version": "3.10.12"
  }
 },
 "nbformat": 4,
 "nbformat_minor": 2
}
