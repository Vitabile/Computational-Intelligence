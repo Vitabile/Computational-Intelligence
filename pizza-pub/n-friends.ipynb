{
 "cells": [
  {
   "cell_type": "code",
   "execution_count": 67,
   "metadata": {},
   "outputs": [],
   "source": [
    "from collections import namedtuple\n",
    "from queue import SimpleQueue\n",
    "from itertools import product"
   ]
  },
  {
   "cell_type": "markdown",
   "metadata": {},
   "source": [
    "I define the state how (ce_pizzeria,ds_pizzeria,ce_pub,ds_pub,bike). Where ce_pizzeria and ce_pub indicate the number of Computer Engineer in the pizzeria and pub, ds_pizzeria and ds_pub indicate the number of Data Scientist in the same two places, and bike indicates the position of bike ('pizzeria' or 'pub)."
   ]
  },
  {
   "cell_type": "code",
   "execution_count": 14,
   "metadata": {},
   "outputs": [],
   "source": [
    "State = namedtuple(\"State\", [\"ce_pizzeria\", \"ds_pizzeria\", \"ce_pub\", \"ds_pub\", \"bike\"])"
   ]
  },
  {
   "cell_type": "code",
   "execution_count": 80,
   "metadata": {},
   "outputs": [],
   "source": [
    "NUM_FRIENDS = 6\n",
    "BIKE_CAPACITY = 4"
   ]
  },
  {
   "cell_type": "markdown",
   "metadata": {},
   "source": [
    "I define a function to check if the state is a goal or not"
   ]
  },
  {
   "cell_type": "code",
   "execution_count": 17,
   "metadata": {},
   "outputs": [],
   "source": [
    "def goal_check(state):\n",
    "    return (\n",
    "        state.ce_pizzeria == 0\n",
    "        and state.ds_pizzeria == 0\n",
    "        and state.ce_pub == NUM_FRIENDS // 2\n",
    "        and state.ds_pub == NUM_FRIENDS // 2\n",
    "    )"
   ]
  },
  {
   "cell_type": "markdown",
   "metadata": {},
   "source": [
    "I define a function to verify if the state is a valid state or not, considering that all the value have to be positive and count(ce) <= count (ds) or count(ds) == 0"
   ]
  },
  {
   "cell_type": "code",
   "execution_count": 48,
   "metadata": {},
   "outputs": [],
   "source": [
    "def valid_state(state):\n",
    "    return (\n",
    "        state.ce_pizzeria >= 0\n",
    "        and state.ds_pizzeria >= 0\n",
    "        and state.ce_pub >= 0\n",
    "        and state.ds_pub >= 0\n",
    "        and (state.ce_pizzeria <= state.ds_pizzeria or state.ds_pizzeria == 0)\n",
    "        and (state.ce_pub <= state.ds_pub or state.ds_pub == 0)\n",
    "    )"
   ]
  },
  {
   "cell_type": "markdown",
   "metadata": {},
   "source": [
    "I define all the possible moves with move = (number_of_ce_to_move,number_of_ds_to_move) "
   ]
  },
  {
   "cell_type": "code",
   "execution_count": 81,
   "metadata": {},
   "outputs": [],
   "source": [
    "moves = [\n",
    "    move\n",
    "    for move in product(range(BIKE_CAPACITY + 1), repeat=2)\n",
    "    if sum(move) != 0 and sum(move) <= BIKE_CAPACITY\n",
    "]"
   ]
  },
  {
   "cell_type": "code",
   "execution_count": 44,
   "metadata": {},
   "outputs": [],
   "source": [
    "def apply_move(state, move):\n",
    "    if state.bike == \"pizzeria\":\n",
    "        return State(\n",
    "            state.ce_pizzeria - move[0],\n",
    "            state.ds_pizzeria - move[1],\n",
    "            state.ce_pub + move[0],\n",
    "            state.ds_pub + move[1],\n",
    "            \"pub\",\n",
    "        )\n",
    "    return State(\n",
    "        state.ce_pizzeria + move[0],\n",
    "        state.ds_pizzeria + move[1],\n",
    "        state.ce_pub - move[0],\n",
    "        state.ds_pub - move[1],\n",
    "        \"pizzeria\",\n",
    "    )"
   ]
  },
  {
   "cell_type": "code",
   "execution_count": 83,
   "metadata": {},
   "outputs": [],
   "source": [
    "def search(frontier):\n",
    "    current_state = frontier.get()\n",
    "    steps = 0\n",
    "    while not goal_check(current_state):\n",
    "        steps += 1\n",
    "        for move in moves:\n",
    "            newState = apply_move(current_state, move)\n",
    "            if valid_state(newState):\n",
    "                frontier.put(newState)\n",
    "        current_state = frontier.get()\n",
    "    print(f\"solved in {steps}\")\n",
    "    return current_state"
   ]
  },
  {
   "cell_type": "code",
   "execution_count": 86,
   "metadata": {},
   "outputs": [
    {
     "name": "stdout",
     "output_type": "stream",
     "text": [
      "solved in 55\n"
     ]
    }
   ],
   "source": [
    "fifo = SimpleQueue()\n",
    "\n",
    "fifo.put(State(NUM_FRIENDS // 2, NUM_FRIENDS // 2, 0, 0, \"pizzeria\"))\n",
    "\n",
    "goal_fifo = search(fifo)"
   ]
  },
  {
   "cell_type": "code",
   "execution_count": 87,
   "metadata": {},
   "outputs": [
    {
     "data": {
      "text/plain": [
       "State(ce_pizzeria=0, ds_pizzeria=0, ce_pub=3, ds_pub=3, bike='pub')"
      ]
     },
     "execution_count": 87,
     "metadata": {},
     "output_type": "execute_result"
    }
   ],
   "source": [
    "goal_fifo"
   ]
  }
 ],
 "metadata": {
  "kernelspec": {
   "display_name": ".venv",
   "language": "python",
   "name": "python3"
  },
  "language_info": {
   "codemirror_mode": {
    "name": "ipython",
    "version": 3
   },
   "file_extension": ".py",
   "mimetype": "text/x-python",
   "name": "python",
   "nbconvert_exporter": "python",
   "pygments_lexer": "ipython3",
   "version": "3.10.12"
  }
 },
 "nbformat": 4,
 "nbformat_minor": 2
}
