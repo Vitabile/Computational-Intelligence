{
 "cells": [
  {
   "cell_type": "markdown",
   "metadata": {},
   "source": [
    "# LAB9\n",
    "\n",
    "Write a local-search algorithm (eg. an EA) able to solve the *Problem* instances 1, 2, 5, and 10 on a 1000-loci genomes, using a minimum number of fitness calls. That's all.\n",
    "\n",
    "### Deadlines:\n",
    "\n",
    "* Submission: Sunday, December 3 ([CET](https://www.timeanddate.com/time/zones/cet))\n",
    "* Reviews: Sunday, December 10 ([CET](https://www.timeanddate.com/time/zones/cet))\n",
    "\n",
    "Notes:\n",
    "\n",
    "* Reviews will be assigned  on Monday, December 4\n",
    "* You need to commit in order to be selected as a reviewer (ie. better to commit an empty work than not to commit)"
   ]
  },
  {
   "cell_type": "code",
   "execution_count": 78,
   "metadata": {},
   "outputs": [],
   "source": [
    "from random import choices, randint, random, choice, shuffle\n",
    "from copy import deepcopy\n",
    "from tqdm.notebook import trange\n",
    "import numpy as np\n",
    "import math\n",
    "\n",
    "import lab9_lib"
   ]
  },
  {
   "cell_type": "code",
   "execution_count": 3,
   "metadata": {},
   "outputs": [],
   "source": [
    "NUM_GENOMES = 1000\n",
    "TOURNAMENT_SIZE = 2"
   ]
  },
  {
   "cell_type": "code",
   "execution_count": 106,
   "metadata": {},
   "outputs": [],
   "source": [
    "class Individual:\n",
    "\n",
    "    '''\n",
    "    Class of an individual:\n",
    "    Attributes:\n",
    "        genomes: list of 0,1\n",
    "        fitness: the fitness value of this individual\n",
    "\n",
    "    Methods :\n",
    "        mutate: random mutation of a gene\n",
    "    '''\n",
    "\n",
    "    genomes: list\n",
    "    fitness: float\n",
    "\n",
    "    def __init__(self, genomes=None):\n",
    "        if genomes == None:\n",
    "            self.genomes = choices([0, 1], k=1000)\n",
    "        else:\n",
    "            self.genomes = genomes\n",
    "\n",
    "    def mutate(self):\n",
    "        mutated_genomes = deepcopy(self.genomes)\n",
    "        index = choice(range(len(self.genomes)))\n",
    "        if self.genomes[index] == 1:\n",
    "            mutated_genomes[index] = 0\n",
    "        else:\n",
    "            mutated_genomes[index] = 1\n",
    "        return Individual(genomes=mutated_genomes)\n",
    "\n",
    "\n",
    "def tournament_selection(population: list[Individual]) -> Individual:\n",
    "    '''\n",
    "    Implementation of tournament selection, from a population get a champion.\n",
    "        population\n",
    "    Args:\n",
    "        population: list of individuals\n",
    "\n",
    "    Return:\n",
    "        The champion (Individual) of the tournament.\n",
    "    '''\n",
    "    pool = choices(population, k=TOURNAMENT_SIZE)\n",
    "    champion = max(pool, key=lambda i: i.fitness)\n",
    "    return champion\n",
    "\n",
    "\n",
    "def uniform_xover(ind1: Individual, ind2: Individual) -> Individual:\n",
    "    '''\n",
    "    Implementation of uniform crossover.\n",
    "        population\n",
    "    Args:\n",
    "        ind1: first individual\n",
    "        ind2: second individual\n",
    "\n",
    "    Return:\n",
    "        The combination of ind1 and ind2 (Individual) after uniform crossover.\n",
    "    '''\n",
    "    offspring_genotype = [ind1.genomes[i] if random() < 0.5 else ind2.genomes[i] for i in range(NUM_GENOMES)]\n",
    "    return Individual(genomes=offspring_genotype)\n",
    "\n",
    "\n",
    "def one_cut_xover(ind1: Individual, ind2: Individual) -> Individual:\n",
    "    '''\n",
    "    Implementation of one cut crossover.\n",
    "        population\n",
    "    Args:\n",
    "        ind1: first individual\n",
    "        ind2: second individual\n",
    "\n",
    "    Return:\n",
    "        The combination of ind1 and ind2 (Individual) after one cut crossover.\n",
    "    '''\n",
    "    cut_point = randint(0, NUM_GENOMES - 1)\n",
    "    offspring = Individual(genomes=ind1.genomes[:cut_point] + ind2.genomes[cut_point:])\n",
    "    return offspring"
   ]
  },
  {
   "cell_type": "code",
   "execution_count": 90,
   "metadata": {},
   "outputs": [],
   "source": [
    "NUM_GENERATION = 30_000\n",
    "\n",
    "POPULATION_SIZE = 50\n",
    "OFFSPRING_SIZE = 25\n",
    "ONLY_MUTATION_PROBABILITY = 0.6\n",
    "STD_THRESHOLD = 0.0005"
   ]
  },
  {
   "cell_type": "code",
   "execution_count": 29,
   "metadata": {},
   "outputs": [],
   "source": [
    "def ga_algorithm(problem_type: int, parent_selection: callable, xover: callable, extinction=False) -> Individual:\n",
    "    '''\n",
    "    Implementation of a Genetic Algorithm.\n",
    "\n",
    "    Args:\n",
    "        problem_type: Value for the problem instace (1,2,5,10)\n",
    "        parent_selection: function to performe a parent selection\n",
    "        xover: function to performe a crossover\n",
    "        extinction: flag, True to promove diversity with extixtion, False otherwise\n",
    "\n",
    "    Return:\n",
    "        The best individual after the GA.\n",
    "    '''\n",
    "\n",
    "    fitness = lab9_lib.make_problem(problem_type)\n",
    "    population = [Individual() for _ in range(POPULATION_SIZE)]\n",
    "\n",
    "    for i in population:\n",
    "        i.fitness = fitness(i.genomes)\n",
    "\n",
    "    population.sort(key=lambda i: i.fitness, reverse=True)\n",
    "\n",
    "    best_individual = population[0]\n",
    "\n",
    "    pbar = trange(0, NUM_GENERATION)\n",
    "    for _ in pbar:\n",
    "        pbar.set_description(f\"Best-individual fitness: {best_individual.fitness}\")\n",
    "\n",
    "        if math.isclose(1, population[0].fitness):\n",
    "            break\n",
    "\n",
    "        offspring = list()\n",
    "\n",
    "        # extinction\n",
    "        population_fitness = [i.fitness for i in population]\n",
    "        if extinction and np.std(population_fitness) < STD_THRESHOLD:\n",
    "            num_indivual_to_extinction = int(POPULATION_SIZE * PERCENTAGE_EXTINCTION)\n",
    "            population = choices(population, k=POPULATION_SIZE - num_indivual_to_extinction)\n",
    "            offspring = [Individual() for _ in range(num_indivual_to_extinction)]\n",
    "\n",
    "        else:\n",
    "            for _ in range(OFFSPRING_SIZE):\n",
    "                if random() < ONLY_MUTATION_PROBABILITY:\n",
    "                    # mutation\n",
    "                    p = parent_selection(population)\n",
    "                    o = p.mutate()\n",
    "                else:\n",
    "                    # xover and mutation\n",
    "                    p1 = parent_selection(population)\n",
    "                    p2 = parent_selection(population)\n",
    "                    o = xover(p1, p2).mutate()\n",
    "\n",
    "                offspring.append(o)\n",
    "\n",
    "        for i in offspring:\n",
    "            i.fitness = fitness(i.genomes)\n",
    "\n",
    "        population.extend(offspring)\n",
    "        population.sort(key=lambda i: i.fitness, reverse=True)\n",
    "        population = population[:POPULATION_SIZE]\n",
    "\n",
    "        # save the new best individual\n",
    "        if population[0].fitness > best_individual.fitness:\n",
    "            best_individual = population[0]\n",
    "\n",
    "    print(f'Solved with {fitness.calls:,} fitness calls')\n",
    "    return best_individual"
   ]
  },
  {
   "cell_type": "markdown",
   "metadata": {},
   "source": [
    "### Problem 1\n",
    "\n",
    "Solution with GA, with Tournament Selection and uniform cross over"
   ]
  },
  {
   "cell_type": "code",
   "execution_count": 91,
   "metadata": {},
   "outputs": [
    {
     "data": {
      "application/vnd.jupyter.widget-view+json": {
       "model_id": "d2ea4118455041708b44a772d4f46991",
       "version_major": 2,
       "version_minor": 0
      },
      "text/plain": [
       "  0%|          | 0/30000 [00:00<?, ?it/s]"
      ]
     },
     "metadata": {},
     "output_type": "display_data"
    },
    {
     "name": "stdout",
     "output_type": "stream",
     "text": [
      "Solved with 24,925 fitness calls\n"
     ]
    }
   ],
   "source": [
    "best_individual_1 = ga_algorithm(1, tournament_selection, uniform_xover)"
   ]
  },
  {
   "cell_type": "markdown",
   "metadata": {},
   "source": [
    "Solution with GA, with Tournament Selection and one cut cross over"
   ]
  },
  {
   "cell_type": "code",
   "execution_count": 92,
   "metadata": {},
   "outputs": [
    {
     "data": {
      "application/vnd.jupyter.widget-view+json": {
       "model_id": "f701c12b8f0446d0afaf7f6631023d39",
       "version_major": 2,
       "version_minor": 0
      },
      "text/plain": [
       "  0%|          | 0/30000 [00:00<?, ?it/s]"
      ]
     },
     "metadata": {},
     "output_type": "display_data"
    },
    {
     "name": "stdout",
     "output_type": "stream",
     "text": [
      "Solved with 33,425 fitness calls\n"
     ]
    }
   ],
   "source": [
    "best_individual_1 = ga_algorithm(1, tournament_selection, one_cut_xover)"
   ]
  },
  {
   "cell_type": "markdown",
   "metadata": {},
   "source": [
    "### Problem 2\n",
    "#### Promoting Diversity with **Extinction**\n",
    "The idea is to change the actual population with new borns based on PERCENTAGE_EXTINCTION, only in the case of a convergence of the fitness in the population. If all the\n",
    "\n",
    "To solve the problem 2, I added a promoting diversity with **extinction**"
   ]
  },
  {
   "cell_type": "code",
   "execution_count": 86,
   "metadata": {},
   "outputs": [],
   "source": [
    "NUM_GENERATION = 30_000\n",
    "PERCENTAGE_EXTINCTION = 0.85\n",
    "\n",
    "POPULATION_SIZE = 50\n",
    "OFFSPRING_SIZE = 25\n",
    "ONLY_MUTATION_PROBABILITY = 0.6\n",
    "STD_THRESHOLD = 0.0005"
   ]
  },
  {
   "cell_type": "code",
   "execution_count": 87,
   "metadata": {},
   "outputs": [
    {
     "data": {
      "application/vnd.jupyter.widget-view+json": {
       "model_id": "a0dd42e1e45e4cc280302d25a30be6b1",
       "version_major": 2,
       "version_minor": 0
      },
      "text/plain": [
       "  0%|          | 0/30000 [00:00<?, ?it/s]"
      ]
     },
     "metadata": {},
     "output_type": "display_data"
    },
    {
     "name": "stdout",
     "output_type": "stream",
     "text": [
      "Solved with 237,446 fitness calls\n"
     ]
    }
   ],
   "source": [
    "best_individual_2 = ga_algorithm(2, tournament_selection, uniform_xover, promoting_diversity='extinction')"
   ]
  },
  {
   "cell_type": "code",
   "execution_count": 88,
   "metadata": {},
   "outputs": [
    {
     "data": {
      "application/vnd.jupyter.widget-view+json": {
       "model_id": "ea6550e0ad7d44b8aecd9422aa92f2a4",
       "version_major": 2,
       "version_minor": 0
      },
      "text/plain": [
       "  0%|          | 0/30000 [00:00<?, ?it/s]"
      ]
     },
     "metadata": {},
     "output_type": "display_data"
    },
    {
     "name": "stdout",
     "output_type": "stream",
     "text": [
      "Solved with 360,544 fitness calls\n"
     ]
    }
   ],
   "source": [
    "best_individual_2 = ga_algorithm(2, tournament_selection, one_cut_xover, promoting_diversity='extinction')"
   ]
  },
  {
   "cell_type": "markdown",
   "metadata": {},
   "source": [
    "### Problem 5\n"
   ]
  },
  {
   "cell_type": "code",
   "execution_count": 93,
   "metadata": {},
   "outputs": [],
   "source": [
    "NUM_GENERATION = 30_000\n",
    "PERCENTAGE_EXTINCTION = 0.85\n",
    "\n",
    "POPULATION_SIZE = 50\n",
    "OFFSPRING_SIZE = 25\n",
    "ONLY_MUTATION_PROBABILITY = 0.6\n",
    "STD_THRESHOLD = 0.0005"
   ]
  },
  {
   "cell_type": "code",
   "execution_count": 95,
   "metadata": {},
   "outputs": [
    {
     "data": {
      "application/vnd.jupyter.widget-view+json": {
       "model_id": "b46688520d7645f99e9129f9897efa56",
       "version_major": 2,
       "version_minor": 0
      },
      "text/plain": [
       "  0%|          | 0/30000 [00:00<?, ?it/s]"
      ]
     },
     "metadata": {},
     "output_type": "display_data"
    },
    {
     "name": "stdout",
     "output_type": "stream",
     "text": [
      "Solved with 753,926 fitness calls\n"
     ]
    }
   ],
   "source": [
    "best_individual_5 = ga_algorithm(5, tournament_selection, uniform_xover, promoting_diversity='extinction')"
   ]
  },
  {
   "cell_type": "markdown",
   "metadata": {},
   "source": [
    "#### I added an implementation with **Islands**"
   ]
  },
  {
   "cell_type": "code",
   "execution_count": 97,
   "metadata": {},
   "outputs": [],
   "source": [
    "def ga_algorithm_island(problem_type: int, parent_selection: callable, xover: callable, extinction=False) -> Individual:\n",
    "    '''\n",
    "    Implementation of a Genetic Algorithm with Islands and migration between them.\n",
    "\n",
    "    Args:\n",
    "        problem_type: Value for the problem instace (1,2,5,10)\n",
    "        parent_selection: function to performe a parent selection\n",
    "        xover: function to performe a crossover\n",
    "        extinction: flag, True to promove diversity with extixtion, False otherwise\n",
    "\n",
    "    Return:\n",
    "        The best individual after the GA with Islands.\n",
    "    '''\n",
    "    fitness = lab9_lib.make_problem(problem_type)\n",
    "\n",
    "    populations = [[Individual() for _ in range(POPULATION_SIZE)] for _ in range(NUM_ISLANDS)]\n",
    "\n",
    "    for population in populations:\n",
    "        for i in population:\n",
    "            i.fitness = fitness(i.genomes)\n",
    "\n",
    "        population.sort(key=lambda i: i.fitness, reverse=True)\n",
    "\n",
    "    best_individuals = [population[0] for population in populations]\n",
    "    best_global_individual = max(best_individuals, key=lambda x: x.fitness)\n",
    "\n",
    "    pbar = trange(0, NUM_GENERATION)\n",
    "    for generation in pbar:\n",
    "        # migration\n",
    "        if (generation + 1) % MIGRATION_STEP == 0:\n",
    "            # random islands\n",
    "            shuffle(populations)\n",
    "            for idx in range(0, NUM_ISLANDS - 1, 2):\n",
    "                # swap\n",
    "                tmp = populations[idx][:NUM_MIGRANTS]\n",
    "                populations[idx + 1][:NUM_MIGRANTS] = populations[idx][:NUM_MIGRANTS]\n",
    "                populations[idx + 1][:NUM_MIGRANTS] = tmp\n",
    "\n",
    "        for i in range(NUM_ISLANDS):\n",
    "            pbar.set_description(f\"Best-individual across island fitness: {best_global_individual.fitness}\")\n",
    "\n",
    "            if math.isclose(1, populations[i][0].fitness):\n",
    "                break\n",
    "\n",
    "            offspring = list()\n",
    "\n",
    "            # extinction\n",
    "            population_fitness = [ind.fitness for ind in populations[i]]\n",
    "            if extinction and np.std(population_fitness) < STD_THRESHOLD:\n",
    "                num_indivual_to_extinction = int(POPULATION_SIZE * PERCENTAGE_EXTINCTION)\n",
    "                populations[i] = choices(populations[i], k=POPULATION_SIZE - num_indivual_to_extinction)\n",
    "                offspring = [Individual() for _ in range(num_indivual_to_extinction)]\n",
    "\n",
    "            else:\n",
    "                for _ in range(OFFSPRING_SIZE):\n",
    "                    if random() < ONLY_MUTATION_PROBABILITY:\n",
    "                        # mutation\n",
    "                        p = parent_selection(populations[i])\n",
    "                        o = p.mutate()\n",
    "                    else:\n",
    "                        # xover and mutation\n",
    "                        p1 = parent_selection(populations[i])\n",
    "                        p2 = parent_selection(populations[i])\n",
    "                        o = xover(p1, p2).mutate()\n",
    "\n",
    "                    offspring.append(o)\n",
    "\n",
    "            for ind in offspring:\n",
    "                ind.fitness = fitness(ind.genomes)\n",
    "\n",
    "            populations[i].extend(offspring)\n",
    "            populations[i].sort(key=lambda ind: ind.fitness, reverse=True)\n",
    "            populations[i] = populations[i][:POPULATION_SIZE]\n",
    "\n",
    "            # save the new best individual\n",
    "            if populations[i][0].fitness > best_individuals[i].fitness:\n",
    "                best_individuals[i] = populations[i][0]\n",
    "\n",
    "            best_global_individual = max(best_individuals, key=lambda ind: ind.fitness)\n",
    "\n",
    "    print(f'Solved with {fitness.calls:,} fitness calls')\n",
    "    return best_global_individual"
   ]
  },
  {
   "cell_type": "code",
   "execution_count": 99,
   "metadata": {},
   "outputs": [],
   "source": [
    "NUM_ISLANDS = 50\n",
    "NUM_MIGRANTS = 25\n",
    "MIGRATION_STEP = 50\n",
    "\n",
    "NUM_GENERATION = 10_000\n",
    "PERCENTAGE_EXTINCTION = 0.85\n",
    "\n",
    "POPULATION_SIZE = 50\n",
    "OFFSPRING_SIZE = 25\n",
    "TOURNAMENT_SIZE = 2\n",
    "ONLY_MUTATION_PROBABILITY = 0.6\n",
    "STD_THRESHOLD = 0.0005"
   ]
  },
  {
   "cell_type": "code",
   "execution_count": 100,
   "metadata": {},
   "outputs": [
    {
     "data": {
      "application/vnd.jupyter.widget-view+json": {
       "model_id": "90ad31ad5647463ab15db723260324cd",
       "version_major": 2,
       "version_minor": 0
      },
      "text/plain": [
       "  0%|          | 0/10000 [00:00<?, ?it/s]"
      ]
     },
     "metadata": {},
     "output_type": "display_data"
    },
    {
     "name": "stdout",
     "output_type": "stream",
     "text": [
      "Solved with 12,996,367 fitness calls\n"
     ]
    }
   ],
   "source": [
    "best_individual_5 = ga_algorithm_island(5, tournament_selection, uniform_xover, extinction=True)"
   ]
  },
  {
   "cell_type": "markdown",
   "metadata": {},
   "source": [
    "### Problem 10"
   ]
  },
  {
   "cell_type": "code",
   "execution_count": 102,
   "metadata": {},
   "outputs": [],
   "source": [
    "NUM_ISLANDS = 50\n",
    "NUM_MIGRANTS = 25\n",
    "MIGRATION_STEP = 50\n",
    "\n",
    "NUM_GENERATION = 10_000\n",
    "PERCENTAGE_EXTINCTION = 0.85\n",
    "\n",
    "POPULATION_SIZE = 50\n",
    "OFFSPRING_SIZE = 25\n",
    "TOURNAMENT_SIZE = 2\n",
    "ONLY_MUTATION_PROBABILITY = 0.5\n",
    "STD_THRESHOLD = 0.0005"
   ]
  },
  {
   "cell_type": "code",
   "execution_count": 107,
   "metadata": {},
   "outputs": [
    {
     "data": {
      "application/vnd.jupyter.widget-view+json": {
       "model_id": "5ad4dc1cae804a6894c4b04168976219",
       "version_major": 2,
       "version_minor": 0
      },
      "text/plain": [
       "  0%|          | 0/10000 [00:00<?, ?it/s]"
      ]
     },
     "metadata": {},
     "output_type": "display_data"
    },
    {
     "name": "stdout",
     "output_type": "stream",
     "text": [
      "Solved with 12,827,047 fitness calls\n"
     ]
    }
   ],
   "source": [
    "best_individual_10 = ga_algorithm_island(10, tournament_selection, uniform_xover, extinction=True)"
   ]
  }
 ],
 "metadata": {
  "kernelspec": {
   "display_name": "ci-fLJ3OwGs-py3.12",
   "language": "python",
   "name": "python3"
  },
  "language_info": {
   "codemirror_mode": {
    "name": "ipython",
    "version": 3
   },
   "file_extension": ".py",
   "mimetype": "text/x-python",
   "name": "python",
   "nbconvert_exporter": "python",
   "pygments_lexer": "ipython3",
   "version": "3.11.5"
  }
 },
 "nbformat": 4,
 "nbformat_minor": 2
}
