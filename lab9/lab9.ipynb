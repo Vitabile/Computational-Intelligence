{
 "cells": [
  {
   "cell_type": "markdown",
   "metadata": {},
   "source": [
    "# LAB9\n",
    "\n",
    "Write a local-search algorithm (eg. an EA) able to solve the *Problem* instances 1, 2, 5, and 10 on a 1000-loci genomes, using a minimum number of fitness calls. That's all.\n",
    "\n",
    "### Deadlines:\n",
    "\n",
    "* Submission: Sunday, December 3 ([CET](https://www.timeanddate.com/time/zones/cet))\n",
    "* Reviews: Sunday, December 10 ([CET](https://www.timeanddate.com/time/zones/cet))\n",
    "\n",
    "Notes:\n",
    "\n",
    "* Reviews will be assigned  on Monday, December 4\n",
    "* You need to commit in order to be selected as a reviewer (ie. better to commit an empty work than not to commit)"
   ]
  },
  {
   "cell_type": "code",
   "execution_count": 71,
   "metadata": {},
   "outputs": [],
   "source": [
    "from random import choices, randint, random, choice, shuffle\n",
    "from copy import deepcopy\n",
    "from tqdm import trange\n",
    "import numpy as np\n",
    "import math\n",
    "from itertools import combinations\n",
    "\n",
    "import lab9_lib"
   ]
  },
  {
   "cell_type": "code",
   "execution_count": 3,
   "metadata": {},
   "outputs": [],
   "source": [
    "NUM_GENOMES = 1000\n",
    "TOURNAMENT_SIZE = 2"
   ]
  },
  {
   "cell_type": "code",
   "execution_count": 5,
   "metadata": {},
   "outputs": [],
   "source": [
    "class Individual:\n",
    "\n",
    "    '''\n",
    "    Class of an individual:\n",
    "    Attributes:\n",
    "        genomes: list of 0,1\n",
    "        fitness: the fitness value of this individual\n",
    "\n",
    "    Methods :\n",
    "        mutate: random mutation of a gene\n",
    "    '''\n",
    "\n",
    "    genomes: list\n",
    "    fitness: float\n",
    "\n",
    "    def __init__(self, genomes=None):\n",
    "        if genomes == None:\n",
    "            self.genomes = choices([0, 1], k=1000)\n",
    "        else:\n",
    "            self.genomes = genomes\n",
    "\n",
    "    def mutate(self):\n",
    "        mutated_genomes = deepcopy(self.genomes)\n",
    "        index = choice(range(len(self.genomes)))\n",
    "        if self.genomes[index] == 1:\n",
    "            mutated_genomes[index] = 0\n",
    "        else:\n",
    "            mutated_genomes[index] = 1\n",
    "        return Individual(genomes=mutated_genomes)\n",
    "\n",
    "\n",
    "def tournament_selection(population: list[Individual]) -> Individual:\n",
    "    '''\n",
    "    Implementation of tournament selection, from a population get a champion.\n",
    "        population\n",
    "    Args:\n",
    "        population: list of individuals\n",
    "\n",
    "    Return:\n",
    "        The champion (Individual) of the tournament.\n",
    "    '''\n",
    "    pool = choices(population, k=TOURNAMENT_SIZE)\n",
    "    champion = max(pool, key=lambda i: i.fitness)\n",
    "    return champion\n",
    "\n",
    "\n",
    "def uniform_xover(ind1: Individual, ind2: Individual) -> Individual:\n",
    "    '''\n",
    "    Implementation of uniform crossover.\n",
    "        population\n",
    "    Args:\n",
    "        ind1: first individual\n",
    "        ind2: second individual\n",
    "\n",
    "    Return:\n",
    "        The combination of ind1 and ind2 (Individual) after uniform crossover.\n",
    "    '''\n",
    "    offspring_genotype = [ind1.genomes[i] if random() < 0.5 else ind2.genomes[i] for i in range(NUM_GENOMES)]\n",
    "    return Individual(genomes=offspring_genotype)\n",
    "\n",
    "\n",
    "def one_cut_xover(ind1: Individual, ind2: Individual) -> Individual:\n",
    "    '''\n",
    "    Implementation of one cut crossover.\n",
    "        population\n",
    "    Args:\n",
    "        ind1: first individual\n",
    "        ind2: second individual\n",
    "\n",
    "    Return:\n",
    "        The combination of ind1 and ind2 (Individual) after one cut crossover.\n",
    "    '''\n",
    "    cut_point = randint(0, NUM_GENOMES - 1)\n",
    "    offspring = Individual(genomes=ind1.genomes[:cut_point] + ind2.genomes[cut_point:])\n",
    "    return offspring"
   ]
  },
  {
   "cell_type": "code",
   "execution_count": 12,
   "metadata": {},
   "outputs": [],
   "source": [
    "NUM_GENERATION = 30_000\n",
    "\n",
    "# not used here\n",
    "PERCENTAGE_EXTINCTION = None\n",
    "\n",
    "POPULATION_SIZE = 50\n",
    "OFFSPRING_SIZE = 25\n",
    "ONLY_MUTATION_PROBABILITY = 0.5\n",
    "STD_THRESHOLD = 0.0005"
   ]
  },
  {
   "cell_type": "code",
   "execution_count": 111,
   "metadata": {},
   "outputs": [],
   "source": [
    "def ga_algorithm(problem_type: int, parent_selection: callable, xover: callable, extinction=False) -> Individual:\n",
    "    '''\n",
    "    Implementation of a Genetic Algorithm.\n",
    "\n",
    "    Args:\n",
    "        problem_type: Value for the problem instace (1,2,5,10)\n",
    "        parent_selection: function to performe a parent selection\n",
    "        xover: function to performe a crossover\n",
    "        extinction: flag, True to promove diversity with extixtion, False otherwise\n",
    "\n",
    "    Return:\n",
    "        The best individual after the GA.\n",
    "    '''\n",
    "\n",
    "    fitness = lab9_lib.make_problem(problem_type)\n",
    "    population = [Individual() for _ in range(POPULATION_SIZE)]\n",
    "\n",
    "    for i in population:\n",
    "        i.fitness = fitness(i.genomes)\n",
    "\n",
    "    population.sort(key=lambda i: i.fitness, reverse=True)\n",
    "\n",
    "    best_individual = population[0]\n",
    "\n",
    "    pbar = trange(0, NUM_GENERATION)\n",
    "    for _ in pbar:\n",
    "        pbar.set_description(f\"Best-individual fitness: {best_individual.fitness}\")\n",
    "\n",
    "        if math.isclose(1, population[0].fitness):\n",
    "            break\n",
    "\n",
    "        offspring = list()\n",
    "\n",
    "        # extinction\n",
    "        population_fitness = [i.fitness for i in population]\n",
    "        if extinction and np.std(population_fitness) < STD_THRESHOLD:\n",
    "            num_indivual_to_extinction = int(POPULATION_SIZE * PERCENTAGE_EXTINCTION)\n",
    "            population = choices(population, k=POPULATION_SIZE - num_indivual_to_extinction)\n",
    "            offspring = [Individual() for _ in range(num_indivual_to_extinction)]\n",
    "\n",
    "        else:\n",
    "            for _ in range(OFFSPRING_SIZE):\n",
    "                if random() < ONLY_MUTATION_PROBABILITY:\n",
    "                    # mutation\n",
    "                    p = parent_selection(population)\n",
    "                    o = p.mutate()\n",
    "                else:\n",
    "                    # xover and mutation\n",
    "                    p1 = parent_selection(population)\n",
    "                    p2 = parent_selection(population)\n",
    "                    o = xover(p1, p2).mutate()\n",
    "\n",
    "                offspring.append(o)\n",
    "\n",
    "        for i in offspring:\n",
    "            i.fitness = fitness(i.genomes)\n",
    "\n",
    "        population.extend(offspring)\n",
    "        population.sort(key=lambda i: i.fitness, reverse=True)\n",
    "        population = population[:POPULATION_SIZE]\n",
    "\n",
    "        # save the new best individual\n",
    "        if population[0].fitness > best_individual.fitness:\n",
    "            best_individual = population[0]\n",
    "\n",
    "    print(f'Problem {problem_type}\\nFitness: {best_individual.fitness}\\nSolved with {fitness.calls:,} fitness calls')\n",
    "    return best_individual"
   ]
  },
  {
   "cell_type": "markdown",
   "metadata": {},
   "source": [
    "### Problem istance 1\n",
    "\n"
   ]
  },
  {
   "cell_type": "markdown",
   "metadata": {},
   "source": [
    "Solution with GA, with Tournament Selection and uniform cross over"
   ]
  },
  {
   "cell_type": "code",
   "execution_count": 21,
   "metadata": {},
   "outputs": [
    {
     "name": "stderr",
     "output_type": "stream",
     "text": [
      "Best-individual fitness: 1.0:   3%|▎         | 908/30000 [00:15<08:15, 58.69it/s]  "
     ]
    },
    {
     "name": "stdout",
     "output_type": "stream",
     "text": [
      "Problem 1\n",
      "Fitness: 1.0\n",
      "Solved with 22,750 fitness calls\n"
     ]
    },
    {
     "name": "stderr",
     "output_type": "stream",
     "text": [
      "\n"
     ]
    }
   ],
   "source": [
    "best_individual_1 = ga_algorithm(1, tournament_selection, uniform_xover)"
   ]
  },
  {
   "cell_type": "markdown",
   "metadata": {},
   "source": [
    "Solution with GA, with Tournament Selection and one cut cross over"
   ]
  },
  {
   "cell_type": "code",
   "execution_count": 20,
   "metadata": {},
   "outputs": [
    {
     "name": "stderr",
     "output_type": "stream",
     "text": [
      "Best-individual fitness: 1.0:   5%|▍         | 1375/30000 [00:22<07:51, 60.73it/s]  "
     ]
    },
    {
     "name": "stdout",
     "output_type": "stream",
     "text": [
      "Problem 1\n",
      "Fitness: 1.0\n",
      "Solved with 34,425 fitness calls\n"
     ]
    },
    {
     "name": "stderr",
     "output_type": "stream",
     "text": [
      "\n"
     ]
    }
   ],
   "source": [
    "best_individual_1 = ga_algorithm(1, tournament_selection, one_cut_xover)"
   ]
  },
  {
   "cell_type": "markdown",
   "metadata": {},
   "source": [
    "### Problem istance 2\n",
    "#### Promoting Diversity with **Extinction**\n",
    "The idea is to change the actual population with new borns based on PERCENTAGE_EXTINCTION, only in the case of a convergence of the fitness in the population."
   ]
  },
  {
   "cell_type": "code",
   "execution_count": 16,
   "metadata": {},
   "outputs": [],
   "source": [
    "NUM_GENERATION = 30_000\n",
    "PERCENTAGE_EXTINCTION = 0.85\n",
    "\n",
    "POPULATION_SIZE = 50\n",
    "OFFSPRING_SIZE = 25\n",
    "ONLY_MUTATION_PROBABILITY = 0.6\n",
    "STD_THRESHOLD = 0.0005"
   ]
  },
  {
   "cell_type": "code",
   "execution_count": 18,
   "metadata": {},
   "outputs": [
    {
     "name": "stderr",
     "output_type": "stream",
     "text": [
      "Best-individual fitness: 1.0:  32%|███▏      | 9580/30000 [02:49<06:02, 56.38it/s]  "
     ]
    },
    {
     "name": "stdout",
     "output_type": "stream",
     "text": [
      "Problem 2\n",
      "Fitness: 1.0\n",
      "Solved with 240,553 fitness calls\n"
     ]
    },
    {
     "name": "stderr",
     "output_type": "stream",
     "text": [
      "\n"
     ]
    }
   ],
   "source": [
    "best_individual_2 = ga_algorithm(2, tournament_selection, uniform_xover, extinction=True)"
   ]
  },
  {
   "cell_type": "markdown",
   "metadata": {},
   "source": [
    "### Problem 5\n",
    "For the problem istance 5 I inceased the number of the population to 100, and offsprings to 50."
   ]
  },
  {
   "cell_type": "code",
   "execution_count": 94,
   "metadata": {},
   "outputs": [],
   "source": [
    "NUM_GENERATION = 50_000\n",
    "PERCENTAGE_EXTINCTION = 0.95\n",
    "\n",
    "POPULATION_SIZE = 100\n",
    "OFFSPRING_SIZE = 50\n",
    "TOURNAMENT_SIZE = 5\n",
    "ONLY_MUTATION_PROBABILITY = 0.65\n",
    "STD_THRESHOLD = 0.0005"
   ]
  },
  {
   "cell_type": "code",
   "execution_count": 95,
   "metadata": {},
   "outputs": [
    {
     "name": "stderr",
     "output_type": "stream",
     "text": [
      "Best-individual fitness: 0.875: 100%|██████████| 50000/50000 [18:46<00:00, 44.38it/s]"
     ]
    },
    {
     "name": "stdout",
     "output_type": "stream",
     "text": [
      "Problem 5\n",
      "Fitness: 0.875\n",
      "Solved with 2,505,500 fitness calls\n"
     ]
    },
    {
     "name": "stderr",
     "output_type": "stream",
     "text": [
      "\n"
     ]
    }
   ],
   "source": [
    "best_individual_5 = ga_algorithm(5, tournament_selection, uniform_xover, extinction=True)"
   ]
  },
  {
   "cell_type": "markdown",
   "metadata": {},
   "source": [
    "### Problem 10\n",
    "For the problem istance 10 I tried two new implementation:\n",
    "* **Islands**\n",
    "* **Two level diversity**"
   ]
  },
  {
   "cell_type": "code",
   "execution_count": 114,
   "metadata": {},
   "outputs": [],
   "source": [
    "NUM_ISLANDS = 4\n",
    "NUM_MIGRANTS = 5\n",
    "MIGRATION_STEP = 1_000\n",
    "\n",
    "NUM_GENERATION = 50_000\n",
    "PERCENTAGE_EXTINCTION = 0.95\n",
    "\n",
    "TOURNAMENT_SIZE = 5\n",
    "POPULATION_SIZE = 100\n",
    "OFFSPRING_SIZE = 50\n",
    "ONLY_MUTATION_PROBABILITY = 0.65\n",
    "STD_THRESHOLD = 0.0005"
   ]
  },
  {
   "cell_type": "markdown",
   "metadata": {},
   "source": [
    "#### Islands implementation"
   ]
  },
  {
   "cell_type": "code",
   "execution_count": 115,
   "metadata": {},
   "outputs": [],
   "source": [
    "def ga_algorithm_island(problem_type: int, parent_selection: callable, xover: callable, extinction=False) -> Individual:\n",
    "    '''\n",
    "    Implementation of a Genetic Algorithm with Islands and migration between them.\n",
    "\n",
    "    Args:\n",
    "        problem_type: Value for the problem instace (1,2,5,10)\n",
    "        parent_selection: function to performe a parent selection\n",
    "        xover: function to performe a crossover\n",
    "        extinction: flag, True to promove diversity with extixtion, False otherwise\n",
    "\n",
    "    Return:\n",
    "        The best individual after the GA with Islands.\n",
    "    '''\n",
    "    fitness = lab9_lib.make_problem(problem_type)\n",
    "\n",
    "    populations = [[Individual() for _ in range(POPULATION_SIZE)] for _ in range(NUM_ISLANDS)]\n",
    "\n",
    "    for population in populations:\n",
    "        for i in population:\n",
    "            i.fitness = fitness(i.genomes)\n",
    "\n",
    "        population.sort(key=lambda i: i.fitness, reverse=True)\n",
    "\n",
    "    best_individuals = [population[0] for population in populations]\n",
    "    best_global_individual = max(best_individuals, key=lambda x: x.fitness)\n",
    "\n",
    "    pbar = trange(0, NUM_GENERATION)\n",
    "    for generation in pbar:\n",
    "        # migration\n",
    "        if (generation + 1) % MIGRATION_STEP == 0:\n",
    "            # random islands\n",
    "            shuffle(populations)\n",
    "            for idx in range(0, NUM_ISLANDS - 1, 2):\n",
    "                # swap\n",
    "                tmp = populations[idx][:NUM_MIGRANTS]\n",
    "                populations[idx + 1][:NUM_MIGRANTS] = populations[idx][:NUM_MIGRANTS]\n",
    "                populations[idx + 1][:NUM_MIGRANTS] = tmp\n",
    "\n",
    "        for i in range(NUM_ISLANDS):\n",
    "            pbar.set_description(f\"Best-individual across island fitness: {best_global_individual.fitness}\")\n",
    "\n",
    "            if math.isclose(1, populations[i][0].fitness):\n",
    "                break\n",
    "\n",
    "            offspring = list()\n",
    "\n",
    "            # extinction\n",
    "            population_fitness = [ind.fitness for ind in populations[i]]\n",
    "            if extinction and np.std(population_fitness) < STD_THRESHOLD:\n",
    "                num_indivual_to_extinction = int(POPULATION_SIZE * PERCENTAGE_EXTINCTION)\n",
    "                populations[i] = choices(populations[i], k=POPULATION_SIZE - num_indivual_to_extinction)\n",
    "                offspring = [Individual() for _ in range(num_indivual_to_extinction)]\n",
    "\n",
    "            else:\n",
    "                for _ in range(OFFSPRING_SIZE):\n",
    "                    if random() < ONLY_MUTATION_PROBABILITY:\n",
    "                        # mutation\n",
    "                        p = parent_selection(populations[i])\n",
    "                        o = p.mutate()\n",
    "                    else:\n",
    "                        # xover and mutation\n",
    "                        p1 = parent_selection(populations[i])\n",
    "                        p2 = parent_selection(populations[i])\n",
    "                        o = xover(p1, p2).mutate()\n",
    "\n",
    "                    offspring.append(o)\n",
    "\n",
    "            for ind in offspring:\n",
    "                ind.fitness = fitness(ind.genomes)\n",
    "\n",
    "            populations[i].extend(offspring)\n",
    "            populations[i].sort(key=lambda ind: ind.fitness, reverse=True)\n",
    "            populations[i] = populations[i][:POPULATION_SIZE]\n",
    "\n",
    "            # save the new best individual\n",
    "            if populations[i][0].fitness > best_individuals[i].fitness:\n",
    "                best_individuals[i] = populations[i][0]\n",
    "\n",
    "            best_global_individual = max(best_individuals, key=lambda ind: ind.fitness)\n",
    "\n",
    "    print(\n",
    "        f'Problem {problem_type}\\nFitness: {best_global_individual.fitness}\\nSolved with {fitness.calls:,} fitness calls'\n",
    "    )\n",
    "    return best_global_individual"
   ]
  },
  {
   "cell_type": "code",
   "execution_count": 98,
   "metadata": {},
   "outputs": [
    {
     "name": "stderr",
     "output_type": "stream",
     "text": [
      "Best-individual across island fitness: 0.4678: 100%|██████████| 20000/20000 [30:45<00:00, 10.84it/s]             "
     ]
    },
    {
     "name": "stdout",
     "output_type": "stream",
     "text": [
      "Problem 10\n",
      "Fitness: 0.4678\n",
      "Solved with 4,284,440 fitness calls\n"
     ]
    },
    {
     "name": "stderr",
     "output_type": "stream",
     "text": [
      "\n"
     ]
    }
   ],
   "source": [
    "best_individual_10 = ga_algorithm_island(10, tournament_selection, uniform_xover, extinction=True)"
   ]
  },
  {
   "cell_type": "markdown",
   "metadata": {},
   "source": [
    "#### Two level diversity selection implementation\n",
    "\n",
    "For this implementation I added a distance metric based on the genotype, to compute the edit distance. So, to compute the number of mutation needed to trasform one individual to the second one I computed the xor between the two individuals and counted the ones."
   ]
  },
  {
   "cell_type": "code",
   "execution_count": 106,
   "metadata": {},
   "outputs": [],
   "source": [
    "def edit_distance(ind1: Individual, ind2: Individual) -> int:\n",
    "    '''\n",
    "    Compute the edit distance of two Individual as number of mutation that I need to trasform the first individual to the second one and otherwise.\n",
    "\n",
    "    Args:\n",
    "        ind1: first individual\n",
    "        ind2: second individual\n",
    "    Return:\n",
    "        The edit distance value\n",
    "    '''\n",
    "    dist = sum([e1 ^ e2 for e1, e2 in zip(ind1.genomes, ind2.genomes)])\n",
    "    return dist\n",
    "\n",
    "\n",
    "def delete_k_most_similar_individual(population: list[Individual], k: int) -> list[Individual]:\n",
    "    '''\n",
    "    Delete from a population the k most similar individuals based on edit distance.\n",
    "\n",
    "    Args:\n",
    "        population: the population of individuals\n",
    "        k: number of individual to delete\n",
    "\n",
    "    Return:\n",
    "        New population after the deletion\n",
    "    '''\n",
    "    tot_distances = [sum([edit_distance(ind, population[i]) for i in range(POPULATION_SIZE)]) for ind in population]\n",
    "    indexes = np.argsort(tot_distances)[:k]\n",
    "    new_population = [population[i] for i in range(POPULATION_SIZE) if i not in indexes]\n",
    "    return new_population"
   ]
  },
  {
   "cell_type": "code",
   "execution_count": 107,
   "metadata": {},
   "outputs": [],
   "source": [
    "def ga_algorithm_two_level_diversity(\n",
    "    problem_type: int, parent_selection: callable, xover: callable, extinction=False\n",
    ") -> Individual:\n",
    "    '''\n",
    "    Implementation of a Genetic Algorithm.\n",
    "\n",
    "    Args:\n",
    "        problem_type: Value for the problem instace (1,2,5,10)\n",
    "        parent_selection: function to performe a parent selection\n",
    "        xover: function to performe a crossover\n",
    "        extinction: flag, True to promove diversity with extixtion, False otherwise\n",
    "\n",
    "    Return:\n",
    "        The best individual after the GA.\n",
    "    '''\n",
    "\n",
    "    fitness = lab9_lib.make_problem(problem_type)\n",
    "    population = [Individual() for _ in range(POPULATION_SIZE)]\n",
    "\n",
    "    for i in population:\n",
    "        i.fitness = fitness(i.genomes)\n",
    "\n",
    "    population.sort(key=lambda i: i.fitness, reverse=True)\n",
    "\n",
    "    best_individual = population[0]\n",
    "\n",
    "    pbar = trange(0, NUM_GENERATION)\n",
    "    for _ in pbar:\n",
    "        pbar.set_description(f\"Best-individual fitness: {best_individual.fitness}\")\n",
    "\n",
    "        if math.isclose(1, fitness(best_individual.genomes)):\n",
    "            break\n",
    "\n",
    "        offspring = list()\n",
    "\n",
    "        # extinction\n",
    "        population_fitness = [ind.fitness for ind in population]\n",
    "        if extinction and np.std(population_fitness) < STD_THRESHOLD:\n",
    "            num_indivual_to_extinction = int(POPULATION_SIZE * PERCENTAGE_EXTINCTION)\n",
    "            population = choices(population, k=POPULATION_SIZE - num_indivual_to_extinction)\n",
    "            offspring = [Individual() for _ in range(num_indivual_to_extinction)]\n",
    "\n",
    "        else:\n",
    "            for _ in range(OFFSPRING_SIZE):\n",
    "                if random() < ONLY_MUTATION_PROBABILITY:\n",
    "                    # mutation\n",
    "                    p = parent_selection(population)\n",
    "                    o = p.mutate()\n",
    "                else:\n",
    "                    # xover and mutation\n",
    "                    p1 = parent_selection(population)\n",
    "                    p2 = parent_selection(population)\n",
    "                    p3 = parent_selection(population)\n",
    "\n",
    "                    # get the 2 parents more distance\n",
    "                    p1, p2, _ = max(\n",
    "                        [(i1, i2, edit_distance(i1, i2)) for i1, i2 in combinations([p1, p2, p3], 2)],\n",
    "                        key=lambda i: i[2],\n",
    "                    )\n",
    "\n",
    "                    o = xover(p1, p2).mutate()\n",
    "\n",
    "                offspring.append(o)\n",
    "\n",
    "        for i in offspring:\n",
    "            i.fitness = fitness(i.genomes)\n",
    "\n",
    "        population.extend(offspring)\n",
    "        population.sort(key=lambda i: i.fitness, reverse=True)\n",
    "        population = population[:POPULATION_SIZE]\n",
    "\n",
    "        # save the new best individual\n",
    "        if population[0].fitness > best_individual.fitness:\n",
    "            best_individual = population[0]\n",
    "\n",
    "    print(f'Problem {problem_type}\\nFitness: {best_individual.fitness}\\nSolved with {fitness.calls:,} fitness calls')\n",
    "    return best_individual"
   ]
  },
  {
   "cell_type": "code",
   "execution_count": 108,
   "metadata": {},
   "outputs": [],
   "source": [
    "NUM_GENERATION = 50_000\n",
    "PERCENTAGE_EXTINCTION = 0.95\n",
    "\n",
    "TOURNAMENT_SIZE = 5\n",
    "POPULATION_SIZE = 100\n",
    "OFFSPRING_SIZE = 50\n",
    "ONLY_MUTATION_PROBABILITY = 0.65\n",
    "STD_THRESHOLD = 0.0005"
   ]
  },
  {
   "cell_type": "code",
   "execution_count": 103,
   "metadata": {},
   "outputs": [
    {
     "name": "stderr",
     "output_type": "stream",
     "text": [
      "Best-individual fitness: 0.495: 100%|██████████| 20000/20000 [06:41<00:00, 49.79it/s]              "
     ]
    },
    {
     "name": "stdout",
     "output_type": "stream",
     "text": [
      "Problem 10\n",
      "Fitness: 0.495\n",
      "Solved with 1,116,985 fitness calls\n"
     ]
    },
    {
     "name": "stderr",
     "output_type": "stream",
     "text": [
      "\n"
     ]
    }
   ],
   "source": [
    "best_individual_10 = ga_algorithm_two_level_diversity(10, tournament_selection, uniform_xover, extinction=True)"
   ]
  }
 ],
 "metadata": {
  "kernelspec": {
   "display_name": "ci-fLJ3OwGs-py3.12",
   "language": "python",
   "name": "python3"
  },
  "language_info": {
   "codemirror_mode": {
    "name": "ipython",
    "version": 3
   },
   "file_extension": ".py",
   "mimetype": "text/x-python",
   "name": "python",
   "nbconvert_exporter": "python",
   "pygments_lexer": "ipython3",
   "version": "3.11.5"
  }
 },
 "nbformat": 4,
 "nbformat_minor": 2
}
