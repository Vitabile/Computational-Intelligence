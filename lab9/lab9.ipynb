{
 "cells": [
  {
   "cell_type": "markdown",
   "metadata": {},
   "source": [
    "# LAB9\n",
    "\n",
    "Write a local-search algorithm (eg. an EA) able to solve the *Problem* instances 1, 2, 5, and 10 on a 1000-loci genomes, using a minimum number of fitness calls. That's all.\n",
    "\n",
    "### Deadlines:\n",
    "\n",
    "* Submission: Sunday, December 3 ([CET](https://www.timeanddate.com/time/zones/cet))\n",
    "* Reviews: Sunday, December 10 ([CET](https://www.timeanddate.com/time/zones/cet))\n",
    "\n",
    "Notes:\n",
    "\n",
    "* Reviews will be assigned  on Monday, December 4\n",
    "* You need to commit in order to be selected as a reviewer (ie. better to commit an empty work than not to commit)"
   ]
  },
  {
   "cell_type": "code",
   "execution_count": 78,
   "metadata": {},
   "outputs": [],
   "source": [
    "from random import choices, randint, random, choice, shuffle\n",
    "from copy import deepcopy\n",
    "from tqdm.notebook import trange\n",
    "import numpy as np\n",
    "import math\n",
    "\n",
    "import lab9_lib"
   ]
  },
  {
   "cell_type": "code",
   "execution_count": 3,
   "metadata": {},
   "outputs": [],
   "source": [
    "NUM_GENOMES = 1000\n",
    "TOURNAMENT_SIZE = 2"
   ]
  },
  {
   "cell_type": "code",
   "execution_count": 4,
   "metadata": {},
   "outputs": [],
   "source": [
    "class Individual:\n",
    "    genomes: list\n",
    "    fitness: float\n",
    "\n",
    "    def __init__(self, genomes=None):\n",
    "        if genomes == None:\n",
    "            self.genomes = choices([0, 1], k=1000)\n",
    "        else:\n",
    "            self.genomes = genomes\n",
    "\n",
    "    def mutate(self):\n",
    "        mutated_genomes = deepcopy(self.genomes)\n",
    "        index = choice(range(len(self.genomes)))\n",
    "        if self.genomes[index] == 1:\n",
    "            mutated_genomes[index] = 0\n",
    "        else:\n",
    "            mutated_genomes[index] = 1\n",
    "        return Individual(genomes=mutated_genomes)\n",
    "\n",
    "\n",
    "def select_parent(population) -> Individual:\n",
    "    pool = choices(population, k=TOURNAMENT_SIZE)\n",
    "    champion = max(pool, key=lambda i: i.fitness)\n",
    "    return champion\n",
    "\n",
    "\n",
    "def uniform_xover(ind1: Individual, ind2: Individual) -> Individual:\n",
    "    offspring_genotype = [ind1.genomes[i] if random() < 0.5 else ind2.genomes[i] for i in range(NUM_GENOMES)]\n",
    "    return Individual(genomes=offspring_genotype)\n",
    "\n",
    "\n",
    "def one_cut_xover(ind1: Individual, ind2: Individual) -> Individual:\n",
    "    cut_point = randint(0, NUM_GENOMES - 1)\n",
    "    offspring = Individual(genomes=ind1.genomes[:cut_point] + ind2.genomes[cut_point:])\n",
    "    return offspring"
   ]
  },
  {
   "cell_type": "code",
   "execution_count": 18,
   "metadata": {},
   "outputs": [],
   "source": [
    "NUM_GENERATION = 30_000\n",
    "PERCENTAGE_EXTINCTION = 0.75\n",
    "\n",
    "POPULATION_SIZE = 50\n",
    "OFFSPRING_SIZE = 25\n",
    "ONLY_MUTATION_PROBABILITY = 0.8\n",
    "STD_THRESHOLD = 0.0005"
   ]
  },
  {
   "cell_type": "code",
   "execution_count": 29,
   "metadata": {},
   "outputs": [],
   "source": [
    "def ga_algorithm(problem_type, select_parent, xover, promoting_diversity=None):\n",
    "    fitness = lab9_lib.make_problem(problem_type)\n",
    "    population = [Individual() for _ in range(POPULATION_SIZE)]\n",
    "\n",
    "    for i in population:\n",
    "        i.fitness = fitness(i.genomes)\n",
    "\n",
    "    population.sort(key=lambda i: i.fitness, reverse=True)\n",
    "\n",
    "    best_individual = population[0]\n",
    "\n",
    "    pbar = trange(0, NUM_GENERATION)\n",
    "    for _ in pbar:\n",
    "        pbar.set_description(f\"Best-individual fitness: {best_individual.fitness}\")\n",
    "\n",
    "        if math.isclose(1, population[0].fitness):\n",
    "            break\n",
    "\n",
    "        offspring = list()\n",
    "\n",
    "        # checking convergence\n",
    "        population_fitness = [i.fitness for i in population]\n",
    "        if promoting_diversity == 'extinction' and np.std(population_fitness) < STD_THRESHOLD:\n",
    "            num_indivual_to_extinction = int(POPULATION_SIZE * PERCENTAGE_EXTINCTION)\n",
    "            population = choices(population, k=POPULATION_SIZE - num_indivual_to_extinction)\n",
    "            offspring = [Individual() for _ in range(num_indivual_to_extinction)]\n",
    "\n",
    "        else:\n",
    "            for _ in range(OFFSPRING_SIZE):\n",
    "                if random() < ONLY_MUTATION_PROBABILITY:\n",
    "                    # mutation\n",
    "                    p = select_parent(population)\n",
    "                    o = p.mutate()\n",
    "                else:\n",
    "                    # xover and mutation\n",
    "                    p1 = select_parent(population)\n",
    "                    p2 = select_parent(population)\n",
    "                    o = xover(p1, p2).mutate()\n",
    "\n",
    "                offspring.append(o)\n",
    "\n",
    "        for i in offspring:\n",
    "            i.fitness = fitness(i.genomes)\n",
    "\n",
    "        population.extend(offspring)\n",
    "        population.sort(key=lambda i: i.fitness, reverse=True)\n",
    "        population = population[:POPULATION_SIZE]\n",
    "\n",
    "        # save the new best individual\n",
    "        if population[0].fitness > best_individual.fitness:\n",
    "            best_individual = population[0]\n",
    "\n",
    "    print(f'Solved with {fitness.calls:,} fitness calls')\n",
    "    return best_individual"
   ]
  },
  {
   "cell_type": "markdown",
   "metadata": {},
   "source": [
    "### Problem 1\n",
    "\n",
    "Solution with GA, with Tournament Selection and uniform cross over"
   ]
  },
  {
   "cell_type": "code",
   "execution_count": 23,
   "metadata": {},
   "outputs": [
    {
     "data": {
      "application/vnd.jupyter.widget-view+json": {
       "model_id": "6cff4204aa0b4d1f8bf5843631bb9c9c",
       "version_major": 2,
       "version_minor": 0
      },
      "text/plain": [
       "  0%|          | 0/30000 [00:00<?, ?it/s]"
      ]
     },
     "metadata": {},
     "output_type": "display_data"
    },
    {
     "name": "stdout",
     "output_type": "stream",
     "text": [
      "Solved with 27,850 fitness calls\n"
     ]
    }
   ],
   "source": [
    "best_individual = ga_algorithm(1, select_parent, uniform_xover)"
   ]
  },
  {
   "cell_type": "markdown",
   "metadata": {},
   "source": [
    "Solution with GA, with Tournament Selection and one cut cross over"
   ]
  },
  {
   "cell_type": "code",
   "execution_count": 24,
   "metadata": {},
   "outputs": [
    {
     "data": {
      "application/vnd.jupyter.widget-view+json": {
       "model_id": "c583a7a5cb7c4cc99ba54a0e083e024b",
       "version_major": 2,
       "version_minor": 0
      },
      "text/plain": [
       "  0%|          | 0/30000 [00:00<?, ?it/s]"
      ]
     },
     "metadata": {},
     "output_type": "display_data"
    },
    {
     "name": "stdout",
     "output_type": "stream",
     "text": [
      "Solved with 39,150 fitness calls\n"
     ]
    }
   ],
   "source": [
    "best_individual = ga_algorithm(1, select_parent, one_cut_xover)"
   ]
  },
  {
   "cell_type": "markdown",
   "metadata": {},
   "source": [
    "### Problem 2\n",
    "#### Promoting Diversity with **Extinction**\n",
    "\n",
    "To solve the problem 2, I added a promoting diversity with **extinction**"
   ]
  },
  {
   "cell_type": "code",
   "execution_count": 86,
   "metadata": {},
   "outputs": [],
   "source": [
    "NUM_GENERATION = 30_000\n",
    "PERCENTAGE_EXTINCTION = 0.85\n",
    "\n",
    "POPULATION_SIZE = 50\n",
    "OFFSPRING_SIZE = 25\n",
    "ONLY_MUTATION_PROBABILITY = 0.6\n",
    "STD_THRESHOLD = 0.0005"
   ]
  },
  {
   "cell_type": "code",
   "execution_count": 87,
   "metadata": {},
   "outputs": [
    {
     "data": {
      "application/vnd.jupyter.widget-view+json": {
       "model_id": "a0dd42e1e45e4cc280302d25a30be6b1",
       "version_major": 2,
       "version_minor": 0
      },
      "text/plain": [
       "  0%|          | 0/30000 [00:00<?, ?it/s]"
      ]
     },
     "metadata": {},
     "output_type": "display_data"
    },
    {
     "name": "stdout",
     "output_type": "stream",
     "text": [
      "Solved with 237,446 fitness calls\n"
     ]
    }
   ],
   "source": [
    "best_individual = ga_algorithm(2, select_parent, uniform_xover, promoting_diversity='extinction')"
   ]
  },
  {
   "cell_type": "code",
   "execution_count": 88,
   "metadata": {},
   "outputs": [
    {
     "data": {
      "application/vnd.jupyter.widget-view+json": {
       "model_id": "ea6550e0ad7d44b8aecd9422aa92f2a4",
       "version_major": 2,
       "version_minor": 0
      },
      "text/plain": [
       "  0%|          | 0/30000 [00:00<?, ?it/s]"
      ]
     },
     "metadata": {},
     "output_type": "display_data"
    },
    {
     "name": "stdout",
     "output_type": "stream",
     "text": [
      "Solved with 360,544 fitness calls\n"
     ]
    }
   ],
   "source": [
    "best_individual = ga_algorithm(2, select_parent, one_cut_xover, promoting_diversity='extinction')"
   ]
  },
  {
   "cell_type": "markdown",
   "metadata": {},
   "source": [
    "### Problem 5\n",
    "I added an implementation with Islands"
   ]
  },
  {
   "cell_type": "code",
   "execution_count": 82,
   "metadata": {},
   "outputs": [],
   "source": [
    "NUM_GENERATION = 30_000\n",
    "PERCENTAGE_EXTINCTION = 0.85\n",
    "\n",
    "POPULATION_SIZE = 50\n",
    "OFFSPRING_SIZE = 25\n",
    "ONLY_MUTATION_PROBABILITY = 0.75\n",
    "STD_THRESHOLD = 0.0005"
   ]
  },
  {
   "cell_type": "code",
   "execution_count": 83,
   "metadata": {},
   "outputs": [
    {
     "data": {
      "application/vnd.jupyter.widget-view+json": {
       "model_id": "2c21fc10249841e899fba4084e7f68c4",
       "version_major": 2,
       "version_minor": 0
      },
      "text/plain": [
       "  0%|          | 0/30000 [00:00<?, ?it/s]"
      ]
     },
     "metadata": {},
     "output_type": "display_data"
    },
    {
     "name": "stdout",
     "output_type": "stream",
     "text": [
      "Solved with 783,234 fitness calls\n"
     ]
    }
   ],
   "source": [
    "best_individual = ga_algorithm(5, select_parent, uniform_xover, promoting_diversity='extinction')"
   ]
  },
  {
   "cell_type": "code",
   "execution_count": 68,
   "metadata": {},
   "outputs": [],
   "source": [
    "NUM_ISLANDS = 50\n",
    "NUM_MIGRANTS = 25\n",
    "MIGRATION_STEP = 5\n",
    "\n",
    "NUM_GENERATION = 10_000\n",
    "PERCENTAGE_EXTINCTION = 0.85\n",
    "\n",
    "POPULATION_SIZE = 50\n",
    "OFFSPRING_SIZE = 25\n",
    "TOURNAMENT_SIZE = 2\n",
    "ONLY_MUTATION_PROBABILITY = 0.75\n",
    "STD_THRESHOLD = 0.0005"
   ]
  },
  {
   "cell_type": "code",
   "execution_count": 75,
   "metadata": {},
   "outputs": [],
   "source": [
    "def ga_algorithm_island(problem_type, select_parent, xover, extinction=False):\n",
    "    fitness = lab9_lib.make_problem(problem_type)\n",
    "\n",
    "    populations = [[Individual() for _ in range(POPULATION_SIZE)] for _ in range(NUM_ISLANDS)]\n",
    "\n",
    "    for population in populations:\n",
    "        for i in population:\n",
    "            i.fitness = fitness(i.genomes)\n",
    "\n",
    "        population.sort(key=lambda i: i.fitness, reverse=True)\n",
    "\n",
    "    best_individuals = [population[0] for population in populations]\n",
    "    best_global_individual = max(best_individuals, key=lambda x: x.fitness)\n",
    "\n",
    "    pbar = trange(0, NUM_GENERATION)\n",
    "    for generation in pbar:\n",
    "        # migration\n",
    "        if (generation + 1) % MIGRATION_STEP == 0:\n",
    "            # random islands\n",
    "            shuffle(populations)\n",
    "            for idx in range(0, NUM_ISLANDS - 1, 2):\n",
    "                # swap\n",
    "                tmp = populations[idx][:NUM_MIGRANTS]\n",
    "                populations[idx + 1][:NUM_MIGRANTS] = populations[idx][:NUM_MIGRANTS]\n",
    "                populations[idx + 1][:NUM_MIGRANTS] = tmp\n",
    "\n",
    "        for i in range(NUM_ISLANDS):\n",
    "            pbar.set_description(f\"Best-individual across island fitness: {best_global_individual.fitness}\")\n",
    "\n",
    "            if math.isclose(1, populations[i][0].fitness):\n",
    "                break\n",
    "\n",
    "            offspring = list()\n",
    "\n",
    "            # extinction\n",
    "            population_fitness = [ind.fitness for ind in populations[i]]\n",
    "            if extinction and np.std(population_fitness) < STD_THRESHOLD:\n",
    "                num_indivual_to_extinction = int(POPULATION_SIZE * PERCENTAGE_EXTINCTION)\n",
    "                populations[i] = choices(populations[i], k=POPULATION_SIZE - num_indivual_to_extinction)\n",
    "                offspring = [Individual() for _ in range(num_indivual_to_extinction)]\n",
    "\n",
    "            else:\n",
    "                for _ in range(OFFSPRING_SIZE):\n",
    "                    if random() < ONLY_MUTATION_PROBABILITY:\n",
    "                        # mutation\n",
    "                        p = select_parent(populations[i])\n",
    "                        o = p.mutate()\n",
    "                    else:\n",
    "                        # xover and mutation\n",
    "                        p1 = select_parent(populations[i])\n",
    "                        p2 = select_parent(populations[i])\n",
    "                        o = xover(p1, p2).mutate()\n",
    "\n",
    "                    offspring.append(o)\n",
    "\n",
    "            for ind in offspring:\n",
    "                ind.fitness = fitness(ind.genomes)\n",
    "\n",
    "            populations[i].extend(offspring)\n",
    "            populations[i].sort(key=lambda ind: ind.fitness, reverse=True)\n",
    "            populations[i] = populations[i][:POPULATION_SIZE]\n",
    "\n",
    "            # save the new best individual\n",
    "            if populations[i][0].fitness > best_individuals[i].fitness:\n",
    "                best_individuals[i] = populations[i][0]\n",
    "\n",
    "            best_global_individual = max(best_individuals, key=lambda ind: ind.fitness)\n",
    "\n",
    "    print(f'Solved with {fitness.calls:,} fitness calls')\n",
    "    return best_global_individual"
   ]
  },
  {
   "cell_type": "code",
   "execution_count": 72,
   "metadata": {},
   "outputs": [
    {
     "data": {
      "application/vnd.jupyter.widget-view+json": {
       "model_id": "aee5eb9e8f5945309b76510fd6bdc2f6",
       "version_major": 2,
       "version_minor": 0
      },
      "text/plain": [
       "  0%|          | 0/1000 [00:00<?, ?it/s]"
      ]
     },
     "metadata": {},
     "output_type": "display_data"
    },
    {
     "name": "stdout",
     "output_type": "stream",
     "text": [
      "Solved with 1,278,588 fitness calls\n"
     ]
    }
   ],
   "source": [
    "best_individual = ga_algorithm_island(5, select_parent, uniform_xover, extinction=True)"
   ]
  },
  {
   "cell_type": "code",
   "execution_count": 76,
   "metadata": {},
   "outputs": [],
   "source": [
    "NUM_ISLANDS = 50\n",
    "NUM_MIGRANTS = 25\n",
    "MIGRATION_STEP = 50\n",
    "\n",
    "NUM_GENERATION = 10_000\n",
    "PERCENTAGE_EXTINCTION = 0.85\n",
    "\n",
    "POPULATION_SIZE = 50\n",
    "OFFSPRING_SIZE = 25\n",
    "TOURNAMENT_SIZE = 2\n",
    "ONLY_MUTATION_PROBABILITY = 0.75\n",
    "STD_THRESHOLD = 0.0005"
   ]
  },
  {
   "cell_type": "code",
   "execution_count": 79,
   "metadata": {},
   "outputs": [
    {
     "data": {
      "application/vnd.jupyter.widget-view+json": {
       "model_id": "ca92537fe7904127882baa4e1c17c0e4",
       "version_major": 2,
       "version_minor": 0
      },
      "text/plain": [
       "  0%|          | 0/10000 [00:00<?, ?it/s]"
      ]
     },
     "metadata": {},
     "output_type": "display_data"
    },
    {
     "name": "stdout",
     "output_type": "stream",
     "text": [
      "Solved with 12,937,608 fitness calls\n"
     ]
    }
   ],
   "source": [
    "best_individual = ga_algorithm_island(5, select_parent, uniform_xover, extinction=True)"
   ]
  },
  {
   "cell_type": "code",
   "execution_count": null,
   "metadata": {},
   "outputs": [],
   "source": [
    "NUM_ISLANDS = 50\n",
    "NUM_MIGRANTS = 25\n",
    "MIGRATION_STEP = 50\n",
    "\n",
    "NUM_GENERATION = 10_000\n",
    "PERCENTAGE_EXTINCTION = 0.85\n",
    "\n",
    "POPULATION_SIZE = 50\n",
    "OFFSPRING_SIZE = 25\n",
    "TOURNAMENT_SIZE = 2\n",
    "ONLY_MUTATION_PROBABILITY = 0.75\n",
    "STD_THRESHOLD = 0.0005"
   ]
  }
 ],
 "metadata": {
  "kernelspec": {
   "display_name": "ci-fLJ3OwGs-py3.12",
   "language": "python",
   "name": "python3"
  },
  "language_info": {
   "codemirror_mode": {
    "name": "ipython",
    "version": 3
   },
   "file_extension": ".py",
   "mimetype": "text/x-python",
   "name": "python",
   "nbconvert_exporter": "python",
   "pygments_lexer": "ipython3",
   "version": "3.11.5"
  }
 },
 "nbformat": 4,
 "nbformat_minor": 2
}
