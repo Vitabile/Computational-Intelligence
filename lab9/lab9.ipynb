{
 "cells": [
  {
   "cell_type": "markdown",
   "metadata": {},
   "source": [
    "Copyright **`(c)`** 2023 Giovanni Squillero `<giovanni.squillero@polito.it>`  \n",
    "[`https://github.com/squillero/computational-intelligence`](https://github.com/squillero/computational-intelligence)  \n",
    "Free for personal or classroom use; see [`LICENSE.md`](https://github.com/squillero/computational-intelligence/blob/master/LICENSE.md) for details.  "
   ]
  },
  {
   "cell_type": "markdown",
   "metadata": {},
   "source": [
    "# LAB9\n",
    "\n",
    "Write a local-search algorithm (eg. an EA) able to solve the *Problem* instances 1, 2, 5, and 10 on a 1000-loci genomes, using a minimum number of fitness calls. That's all.\n",
    "\n",
    "### Deadlines:\n",
    "\n",
    "* Submission: Sunday, December 3 ([CET](https://www.timeanddate.com/time/zones/cet))\n",
    "* Reviews: Sunday, December 10 ([CET](https://www.timeanddate.com/time/zones/cet))\n",
    "\n",
    "Notes:\n",
    "\n",
    "* Reviews will be assigned  on Monday, December 4\n",
    "* You need to commit in order to be selected as a reviewer (ie. better to commit an empty work than not to commit)"
   ]
  },
  {
   "cell_type": "code",
   "execution_count": 107,
   "metadata": {},
   "outputs": [],
   "source": [
    "from random import choices, randint, random, choice\n",
    "from copy import deepcopy\n",
    "from tqdm.notebook import trange\n",
    "import numpy as np\n",
    "\n",
    "\n",
    "\n",
    "import lab9_lib"
   ]
  },
  {
   "cell_type": "code",
   "execution_count": 67,
   "metadata": {},
   "outputs": [],
   "source": [
    "NUM_GENOMES = 1000\n",
    "\n",
    "POPULATION_SIZE = 30\n",
    "OFFSPRING_SIZE = 20\n",
    "TOURNAMENT_SIZE = 2\n",
    "MUTATION_PROBABILITY = 0.15"
   ]
  },
  {
   "cell_type": "code",
   "execution_count": 89,
   "metadata": {},
   "outputs": [],
   "source": [
    "class Individual:\n",
    "    genomes: list\n",
    "    fitness: float\n",
    "\n",
    "    def __init__(self, genomes=None):\n",
    "        if genomes == None:\n",
    "            self.genomes = choices([0, 1], k=1000)\n",
    "        else:\n",
    "            self.genomes = genomes\n",
    "\n",
    "    def mutate(self):\n",
    "        mutated_genomes = deepcopy(self.genomes)\n",
    "        index = choice(range(len(self.genomes)))\n",
    "        if self.genomes[index] == 1:\n",
    "            mutated_genomes[index] = 0\n",
    "        else:\n",
    "            mutated_genomes[index] = 1\n",
    "        return Individual(genomes=mutated_genomes)\n",
    "\n",
    "\n",
    "def select_parent(population) -> Individual:\n",
    "    pool = choices(population, k=TOURNAMENT_SIZE)\n",
    "    champion = max(pool, key=lambda i: i.fitness)\n",
    "    return champion\n",
    "\n",
    "\n",
    "def uniform_xover(ind1: Individual, ind2: Individual) -> Individual:\n",
    "    offspring_genotype = [ind1.genomes[i] if random() < 0.5 else ind2.genomes[i] for i in range(NUM_GENOMES)]\n",
    "    return Individual(genomes=offspring_genotype)\n",
    "\n",
    "\n",
    "def one_cut_xover(ind1: Individual, ind2: Individual) -> Individual:\n",
    "    cut_point = randint(0, NUM_GENOMES - 1)\n",
    "    offspring = Individual(genomes=ind1.genomes[:cut_point] + ind2.genomes[cut_point:])\n",
    "    return offspring"
   ]
  },
  {
   "cell_type": "markdown",
   "metadata": {},
   "source": [
    "#### Problem 1"
   ]
  },
  {
   "cell_type": "code",
   "execution_count": 110,
   "metadata": {},
   "outputs": [
    {
     "name": "stdout",
     "output_type": "stream",
     "text": [
      "1.0\n"
     ]
    }
   ],
   "source": [
    "fitness = lab9_lib.make_problem(1)\n",
    "population = [Individual() for _ in range(POPULATION_SIZE)]\n",
    "\n",
    "for i in population:\n",
    "    i.fitness = fitness(i.genomes)\n",
    "\n",
    "for generation in range(3000):\n",
    "    offspring = list()\n",
    "    for counter in range(OFFSPRING_SIZE):\n",
    "        if random() < MUTATION_PROBABILITY:  # self-adapt mutation probability\n",
    "            # mutation  # add more clever mutations\n",
    "            p = select_parent(population)\n",
    "            o = p.mutate()\n",
    "        else:\n",
    "            # xover # add more xovers\n",
    "            p1 = select_parent(population)\n",
    "            p2 = select_parent(population)\n",
    "            o = one_cut_xover(p1, p2)\n",
    "        offspring.append(o)\n",
    "\n",
    "    for i in offspring:\n",
    "        i.fitness = fitness(i.genomes)\n",
    "\n",
    "    population.extend(offspring)\n",
    "    population.sort(key=lambda i: i.fitness, reverse=True)\n",
    "    population = population[:POPULATION_SIZE]\n",
    "    if population[0].fitness > 0.999:\n",
    "        break\n",
    "print(population[0].fitness)"
   ]
  },
  {
   "cell_type": "code",
   "execution_count": 111,
   "metadata": {},
   "outputs": [
    {
     "name": "stdout",
     "output_type": "stream",
     "text": [
      "47370\n"
     ]
    }
   ],
   "source": [
    "print(fitness.calls)\n",
    "best = population[0]"
   ]
  },
  {
   "cell_type": "markdown",
   "metadata": {},
   "source": [
    "### Problem 2\n",
    "#### Promoting Diversity with **Extinction**"
   ]
  },
  {
   "cell_type": "code",
   "execution_count": 128,
   "metadata": {},
   "outputs": [],
   "source": [
    "NUM_GENERATION = 10_000\n",
    "PERCENTAGE_EXTINCTION = 0.85\n",
    "\n",
    "POPULATION_SIZE = 50\n",
    "OFFSPRING_SIZE = 25\n",
    "TOURNAMENT_SIZE = 2\n",
    "ONLY_MUTATION_PROBABILITY = 0.8\n",
    "STD_THRESHOLD = 0.0005"
   ]
  },
  {
   "cell_type": "code",
   "execution_count": 129,
   "metadata": {},
   "outputs": [
    {
     "data": {
      "application/vnd.jupyter.widget-view+json": {
       "model_id": "9a07b3c918eb40c0a1ab373fa2d560df",
       "version_major": 2,
       "version_minor": 0
      },
      "text/plain": [
       "  0%|          | 0/10000 [00:00<?, ?it/s]"
      ]
     },
     "metadata": {},
     "output_type": "display_data"
    },
    {
     "name": "stdout",
     "output_type": "stream",
     "text": [
      "0.956\n"
     ]
    }
   ],
   "source": [
    "fitness = lab9_lib.make_problem(2)\n",
    "population = [Individual() for _ in range(POPULATION_SIZE)]\n",
    "\n",
    "\n",
    "for i in population:\n",
    "    i.fitness = fitness(i.genomes)\n",
    "\n",
    "population.sort(key=lambda i: i.fitness, reverse=True)\n",
    "\n",
    "best_individual = population[0]\n",
    "\n",
    "\n",
    "pbar = trange(0, NUM_GENERATION)\n",
    "for generation in pbar:\n",
    "    pbar.set_description(f\"Best-individual fitness: {best_individual.fitness:.2%}\")\n",
    "    offspring = list()\n",
    "\n",
    "    # checking convergence\n",
    "    population_fitness = [i.fitness for i in population]\n",
    "    if np.std(population_fitness) < STD_THRESHOLD:\n",
    "        num_indivual_to_extinction = int(POPULATION_SIZE * PERCENTAGE_EXTINCTION)\n",
    "        population = choices(population, k=POPULATION_SIZE - num_indivual_to_extinction)\n",
    "        offspring = [Individual() for _ in range(num_indivual_to_extinction)]\n",
    "\n",
    "    else:\n",
    "        for counter in range(OFFSPRING_SIZE):\n",
    "            if random() < ONLY_MUTATION_PROBABILITY:  # self-adapt mutation probability\n",
    "                # mutation  # add more clever mutations\n",
    "                p = select_parent(population)\n",
    "                o = p.mutate()\n",
    "            else:\n",
    "                # xover # add more xovers\n",
    "                p1 = select_parent(population)\n",
    "                p2 = select_parent(population)\n",
    "                o = uniform_xover(p1, p2).mutate()\n",
    "\n",
    "            offspring.append(o)\n",
    "\n",
    "    for i in offspring:\n",
    "        i.fitness = fitness(i.genomes)\n",
    "\n",
    "    population.extend(offspring)\n",
    "    population.sort(key=lambda i: i.fitness, reverse=True)\n",
    "    population = population[:POPULATION_SIZE]\n",
    "\n",
    "    # save the new best individual\n",
    "    if population[0].fitness > best_individual.fitness:\n",
    "        best_individual = population[0]\n",
    "\n",
    "print(population[0].fitness)"
   ]
  },
  {
   "cell_type": "code",
   "execution_count": 131,
   "metadata": {},
   "outputs": [],
   "source": [
    "NUM_GENERATION = 20_000\n",
    "PERCENTAGE_EXTINCTION = 0.9\n",
    "\n",
    "POPULATION_SIZE = 80\n",
    "OFFSPRING_SIZE = 30\n",
    "TOURNAMENT_SIZE = 2\n",
    "ONLY_MUTATION_PROBABILITY = 0.8\n",
    "STD_THRESHOLD = 0.0005"
   ]
  },
  {
   "cell_type": "code",
   "execution_count": 132,
   "metadata": {},
   "outputs": [
    {
     "data": {
      "application/vnd.jupyter.widget-view+json": {
       "model_id": "15e7878ed3ff491b8088ce3c51390a59",
       "version_major": 2,
       "version_minor": 0
      },
      "text/plain": [
       "  0%|          | 0/20000 [00:00<?, ?it/s]"
      ]
     },
     "metadata": {},
     "output_type": "display_data"
    },
    {
     "name": "stdout",
     "output_type": "stream",
     "text": [
      "0.998\n"
     ]
    }
   ],
   "source": [
    "fitness = lab9_lib.make_problem(2)\n",
    "population = [Individual() for _ in range(POPULATION_SIZE)]\n",
    "\n",
    "\n",
    "for i in population:\n",
    "    i.fitness = fitness(i.genomes)\n",
    "\n",
    "population.sort(key=lambda i: i.fitness, reverse=True)\n",
    "\n",
    "best_individual = population[0]\n",
    "\n",
    "\n",
    "pbar = trange(0, NUM_GENERATION)\n",
    "for generation in pbar:\n",
    "    pbar.set_description(f\"Best-individual fitness: {best_individual.fitness:.2%}\")\n",
    "    offspring = list()\n",
    "\n",
    "    # checking convergence\n",
    "    population_fitness = [i.fitness for i in population]\n",
    "    if np.std(population_fitness) < STD_THRESHOLD:\n",
    "        num_indivual_to_extinction = int(POPULATION_SIZE * PERCENTAGE_EXTINCTION)\n",
    "        population = choices(population, k=POPULATION_SIZE - num_indivual_to_extinction)\n",
    "        offspring = [Individual() for _ in range(num_indivual_to_extinction)]\n",
    "\n",
    "    else:\n",
    "        for counter in range(OFFSPRING_SIZE):\n",
    "            if random() < ONLY_MUTATION_PROBABILITY:  # self-adapt mutation probability\n",
    "                # mutation  # add more clever mutations\n",
    "                p = select_parent(population)\n",
    "                o = p.mutate()\n",
    "            else:\n",
    "                # xover # add more xovers\n",
    "                p1 = select_parent(population)\n",
    "                p2 = select_parent(population)\n",
    "                o = uniform_xover(p1, p2).mutate()\n",
    "\n",
    "            offspring.append(o)\n",
    "\n",
    "    for i in offspring:\n",
    "        i.fitness = fitness(i.genomes)\n",
    "\n",
    "    population.extend(offspring)\n",
    "    population.sort(key=lambda i: i.fitness, reverse=True)\n",
    "    population = population[:POPULATION_SIZE]\n",
    "\n",
    "    # save the new best individual\n",
    "    if population[0].fitness > best_individual.fitness:\n",
    "        best_individual = population[0]"
   ]
  }
 ],
 "metadata": {
  "kernelspec": {
   "display_name": "ci-fLJ3OwGs-py3.12",
   "language": "python",
   "name": "python3"
  },
  "language_info": {
   "codemirror_mode": {
    "name": "ipython",
    "version": 3
   },
   "file_extension": ".py",
   "mimetype": "text/x-python",
   "name": "python",
   "nbconvert_exporter": "python",
   "pygments_lexer": "ipython3",
   "version": "3.11.5"
  }
 },
 "nbformat": 4,
 "nbformat_minor": 2
}
